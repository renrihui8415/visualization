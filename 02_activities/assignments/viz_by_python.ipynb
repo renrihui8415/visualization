{
 "cells": [
  {
   "cell_type": "markdown",
   "metadata": {},
   "source": [
    "# Project Overview: Dynamic Bar Chart for Toronto Ward Budgets (Year 2010 to Year 2024)\n",
    "\n",
    "## Prerequisites\n",
    "- **Python**\n",
    "- **Data Visualization**\n",
    "- **Data Analysis**\n",
    "- **Automation**\n",
    "- **Google Chrome**\n",
    "\n",
    "## 1. Data Source and Description\n",
    "\n",
    "### 1.1 Data Source\n",
    "The data used in this project is **automatically** retrieved and downloaded by Python from various Excel files available at the following link. [Toronto Open Data](https://open.toronto.ca/dataset/budget-capital-budget-plan-by-ward-10-yr-approved/\n",
    "). The downloaded data is stored in the data folder within the current year's work directory.\n",
    "\n",
    "<img src=\"data files.png\" alt=\"data files\" width=\"400\" height=\"400\">\n",
    "\n",
    "\n",
    "### 1.2 Data Description\n",
    "\n",
    "Each file contains financial data for **44 (25 from 2019)** wards in Toronto, covering the time span **from 2010 to 2024**. The columns detail annual budgets, and key columns of interest are:\n",
    "\n",
    "- `Ward/Project Number`: Identifier for each ward and project.\n",
    "- `Year` columns: Columns that represent different years' budget data.\n",
    "\n",
    "## 2. Project Objective (Data Visualization)\n",
    "\n",
    "The primary objective of this project is to create a **Dynamic Bar Chart** that compares the annual budgets of different wards in Toronto. This comparison will help visualize how each ward's budget changes over time and highlight disparities and trends across the city. Additionally, **animated visuals** are incorporated to enhance the dynamic presentation of the data.\n",
    "\n",
    "### 2.1 Dynamic Bar Chart Features\n",
    "- **Vertical Comparison**: Compare the budget changes of the same ward across different years, showing how the budget evolves over time for that specific ward.\n",
    "- **Horizontal Comparison**: Compare the budgets of different wards for the same year, highlighting how budgets vary among wards in a given year.\n",
    "\n",
    "![Dynamic Bar Chart](viz_by_python.gif)\n",
    "\n",
    "## 3. Data Processing \n",
    "\n",
    "### 3.1 Reading Excel Files\n",
    "\n",
    "### 3.2 Extracting and Cleaning Data (ETL)\n",
    "\n",
    "Over the past 14 years, the format of the financial data tables has been updated multiple times, with key columns, their names, and positions changing frequently. This requires Python to dynamically locate and extract the necessary data. Key challenges include:\n",
    "\n",
    "- Conversion from XLS to XLSX formats\n",
    "- Splitting merged cells\n",
    "- Adjusting column positions and names due to format changes and the reorganization of ward divisions\n",
    "\n",
    "Below are examples of different formats encountered:\n",
    "\n",
    "<img src=\"format1.png\" alt=\"format1\" width=\"400\" height=\"200\"> \n",
    "<img src=\"format2.png\" alt=\"format2\" width=\"400\" height=\"200\">\n",
    "<img src=\"format3.png\" alt=\"format3\" width=\"400\" height=\"200\">\n",
    "\n",
    "\n",
    "## 4. Data Calculating for Visualization \n",
    "\n",
    "Prepare the data for visualization by:\n",
    "\n",
    "- Generating mappings for ward number and ward name.\n",
    "- Adding new columns as needed.\n",
    "- Filling missing values with fillna.\n",
    "- Ensuring data accuracy for accurate visualizations.\n",
    "\n",
    "<img src=\"viz_by_python.png\" alt=\"Python\" width=\"600\" height=\"600\">\n",
    "\n",
    "## 5. Data Visualization (Dynamic Bar Chart)\n",
    "   - Use Plotly to create an interactive bar chart.\n",
    "   - Display annual budgets for each ward, animating the chart to show how budgets change both from year to year and across different wards.\n",
    "   \n",
    "\n",
    "(End)\n"
   ]
  },
  {
   "cell_type": "markdown",
   "metadata": {},
   "source": [
    "### 0. Install Python Modules"
   ]
  },
  {
   "cell_type": "code",
   "execution_count": 1,
   "metadata": {},
   "outputs": [
    {
     "name": "stdout",
     "output_type": "stream",
     "text": [
      "Packages have been installed.\n"
     ]
    }
   ],
   "source": [
    "import subprocess\n",
    "import sys\n",
    "\n",
    "# 0.1 The following function installs/tests the major required packages for this script\n",
    "\n",
    "def install_and_import(package):\n",
    "    try:\n",
    "        import_name = package\n",
    "        __import__(import_name)\n",
    "    except ImportError:\n",
    "        print(f\"{package} not found. Installing...\")\n",
    "        subprocess.check_call([sys.executable, \"-m\", \"pip\", \"install\", package])\n",
    "        print(f\"{package} installed successfully.\")\n",
    "    finally:\n",
    "        globals()[package] = __import__(import_name)\n",
    "\n",
    "\n",
    "import_packages = ['selenium', 'webdriver_manager', 'xlrd', 'openpyxl', 'xls2xlsx']\n",
    "\n",
    "for package in import_packages:\n",
    "    install_and_import(package)\n",
    "print('Packages have been installed.')"
   ]
  },
  {
   "cell_type": "markdown",
   "metadata": {},
   "source": [
    "### 1. Import Libraries and Define Variables"
   ]
  },
  {
   "cell_type": "code",
   "execution_count": 2,
   "metadata": {},
   "outputs": [],
   "source": [
    "# Get download links\n",
    "from selenium import webdriver\n",
    "from selenium.webdriver.chrome.service import Service\n",
    "from selenium.webdriver.common.by import By\n",
    "from selenium.webdriver.chrome.options import Options\n",
    "from webdriver_manager.chrome import ChromeDriverManager\n",
    "import time\n",
    "import re\n",
    "\n",
    "# Download files\n",
    "import requests\n",
    "import os\n",
    "\n",
    "# Data ETL\n",
    "import pandas as pd\n",
    "import openpyxl\n",
    "from openpyxl import Workbook, load_workbook\n",
    "from xls2xlsx import XLS2XLSX\n",
    "\n",
    "# Data Calculating\n",
    "from sklearn.preprocessing import MinMaxScaler\n",
    "\n",
    "# Suppress specific warnings\n",
    "import warnings\n",
    "warnings.filterwarnings(\"ignore\", category=UserWarning, module='openpyxl')\n",
    "warnings.simplefilter(action='ignore', category=FutureWarning)\n",
    "\n",
    "# Data Visualization\n",
    "import plotly.express as px\n",
    "\n",
    "\n",
    "source_data_link         = 'https://open.toronto.ca/dataset/budget-capital-budget-plan-by-ward-10-yr-approved/'\n",
    "source_button_XPATH      = '//*[@id=\"header-Download\"]/div/h3/button'\n",
    "link_XPATH               = '//*[@id=\"table-resources\"]'\n",
    "download_folder          = 'data'\n",
    "ward_column_list         = ['Ward', 'Ward/Project Number', 'Ward/Project Num.', 'Ward Name']\n",
    "inserted_column          = 'Year'\n",
    "rename_column_1          = 'Budget_Year_1'\n",
    "rename_column_2          = 'Budget_Year_2'\n",
    "extracted_data_file      = 'budget_data.csv'\n",
    "report_data_file         = 'report_data.csv'\n",
    "family = 'sans-serif'\n",
    "purple_color = '#544698'"
   ]
  },
  {
   "cell_type": "markdown",
   "metadata": {},
   "source": [
    "### 2. Data Processing\n",
    " \n",
    "- **2.1 Function to get download links for multiple Excel files**\n",
    "\n",
    "**_Please note that this code will automatically use Google Chrome to search for download links. If you do not have the Google Chrome browser installed, please manually download the data from the source data link (in the previous cell) to the 'data' folder in your current working directory._**"
   ]
  },
  {
   "cell_type": "code",
   "execution_count": 3,
   "metadata": {},
   "outputs": [],
   "source": [
    "def get_links(url, button_XPATH, links_area_XPATH):\n",
    "\n",
    "    # Set up Selenium options\n",
    "    chrome_options = Options()\n",
    "    chrome_options.add_argument(\"--headless\")  # Run in headless mode (no browser window)\n",
    "\n",
    "    # Initialize the WebDriver\n",
    "    service = Service(ChromeDriverManager().install())\n",
    "    driver = webdriver.Chrome(service=service, options=chrome_options)\n",
    "\n",
    "    # Open the target URL\n",
    "    driver.get(url)\n",
    "\n",
    "    # Wait for the button to be clickable and click it\n",
    "    time.sleep(1)  # Adjust wait time as needed\n",
    "    button = driver.find_element(By.XPATH, button_XPATH)  # Adjust XPath as needed\n",
    "    button.click()\n",
    "\n",
    "    # Wait for the content to load\n",
    "    time.sleep(1)  # Adjust wait time as needed\n",
    "\n",
    "    # Find the specific area containing the links\n",
    "    links_area = driver.find_element(By.XPATH, links_area_XPATH)\n",
    "\n",
    "    # Find all links within the specified area\n",
    "    links = links_area.find_elements(By.TAG_NAME, 'a')\n",
    "\n",
    "    # Extract all download links (including .xls and .xlsx) that contain \"download\"\n",
    "    download_links = [\n",
    "        link.get_attribute('href') for link in links\n",
    "        if 'download' in link.get_attribute('href').lower() and re.search(r'\\.(xls|xlsx)$', link.get_attribute('href'), re.IGNORECASE)\n",
    "    ]\n",
    "\n",
    "    # Close the browser\n",
    "    driver.quit()\n",
    "    \n",
    "    return download_links"
   ]
  },
  {
   "cell_type": "markdown",
   "metadata": {},
   "source": [
    "- **2.2 Function to download Files using the download links**"
   ]
  },
  {
   "cell_type": "code",
   "execution_count": 4,
   "metadata": {},
   "outputs": [],
   "source": [
    "def download_files(download_links, download_folder):\n",
    "    if not os.path.exists(download_folder):\n",
    "        os.makedirs(download_folder)\n",
    "\n",
    "    for link in download_links:\n",
    "        # Extract the file name from the link\n",
    "        file_name = os.path.join(download_folder, link.split('/')[-1])\n",
    "\n",
    "        # Send a GET request to download the file\n",
    "        response = requests.get(link)\n",
    "        response.raise_for_status()  # Ensure we notice bad responses\n",
    "\n",
    "        # Write the file to the specified folder\n",
    "        with open(file_name, 'wb') as file:\n",
    "            file.write(response.content)\n",
    "\n",
    "        print(f\"Downloaded {file_name}\")\n"
   ]
  },
  {
   "cell_type": "markdown",
   "metadata": {},
   "source": [
    "- **2.3 Data ETL (Extraction, Transformation, Loading)**"
   ]
  },
  {
   "cell_type": "markdown",
   "metadata": {},
   "source": [
    "- 2.3.1 Subfunction 1 to get the year column"
   ]
  },
  {
   "cell_type": "code",
   "execution_count": 5,
   "metadata": {},
   "outputs": [],
   "source": [
    "def get_year_from_column(name):\n",
    "    # Function to check if a column name can be converted to an int\n",
    "    try:\n",
    "        return int(name)\n",
    "    except:        \n",
    "        return None"
   ]
  },
  {
   "cell_type": "markdown",
   "metadata": {},
   "source": [
    "- 2.3.2 Subfunction 2 to convert .xls to .xlsx"
   ]
  },
  {
   "cell_type": "code",
   "execution_count": 6,
   "metadata": {},
   "outputs": [],
   "source": [
    "def convert_xls_to_xlsx(xls_path, xlsx_path):\n",
    "    \n",
    "    xls_file = XLS2XLSX(xls_path)\n",
    "    xls_file.to_xlsx(xlsx_path)\n",
    "    "
   ]
  },
  {
   "cell_type": "markdown",
   "metadata": {},
   "source": [
    "- 2.3.3 Subfunction 3 to fill the unmerged cells"
   ]
  },
  {
   "cell_type": "code",
   "execution_count": 7,
   "metadata": {},
   "outputs": [],
   "source": [
    "def fill_unmerged_cells(file_path):\n",
    "    workbook = load_workbook(filename=file_path)\n",
    "\n",
    "    for sheet_name in workbook.sheetnames:\n",
    "        sheet = workbook[sheet_name]\n",
    "        for merge in list(sheet.merged_cells.ranges):\n",
    "            min_col, min_row, max_col, max_row = merge.bounds\n",
    "            top_left_cell_value = sheet.cell(row=min_row, column=min_col).value\n",
    "            sheet.unmerge_cells(str(merge))\n",
    "            for row in range(min_row, max_row + 1):\n",
    "                for col in range(min_col, max_col + 1):\n",
    "                    sheet.cell(row=row, column=col).value = top_left_cell_value\n",
    "    workbook.save(file_path)\n",
    "    print(f\"Unmerged cells have been saved for Year: {(os.path.basename(file_path))[0:4]}\")  \n",
    "    "
   ]
  },
  {
   "cell_type": "markdown",
   "metadata": {},
   "source": [
    "- 2.3.4 Subfunction 4 to convert string to numerical values"
   ]
  },
  {
   "cell_type": "code",
   "execution_count": 8,
   "metadata": {},
   "outputs": [],
   "source": [
    "def to_numeric(value):\n",
    "    try:\n",
    "        return float(value)\n",
    "    except ValueError:\n",
    "        return 0"
   ]
  },
  {
   "cell_type": "markdown",
   "metadata": {},
   "source": [
    "- 2.3.5 Subfunction 5 to process the data"
   ]
  },
  {
   "cell_type": "code",
   "execution_count": 9,
   "metadata": {},
   "outputs": [],
   "source": [
    "def data_processing(file_path, ward_column_list, sheet_name=None, inserted_column = None, rename_column_1 = None, rename_column_2 = None ):\n",
    "    file_name = os.path.basename(file_path)\n",
    "    year_number = file_name[0:4]\n",
    "    filtered_data = None\n",
    "    # 1) Read the Excel file and convert the data to string temporarily\n",
    "    if sheet_name:\n",
    "        try: \n",
    "            # Read a specific sheet into a DataFrame\n",
    "            excel_data = pd.read_excel(file_path, header=None, sheet_name=sheet_name, dtype=str,engine='openpyxl')\n",
    "        except: \n",
    "            excel_data = pd.read_excel(file_path, header=None, sheet_name=sheet_name, dtype=str,engine='xlrd')\n",
    "        # Wrap DataFrame in a dictionary to handle uniformly\n",
    "        excel_data = {sheet_name: excel_data}\n",
    "    else:\n",
    "        try:\n",
    "            # Read all sheets into a dictionary\n",
    "            excel_data = pd.read_excel(file_path, header=None, dtype=str, sheet_name=None, engine='openpyxl')\n",
    "        except:\n",
    "            excel_data = pd.read_excel(file_path, header=None, dtype=str, sheet_name=None, engine='xlrd')\n",
    "    # 2) Iterate over the sheets and find the actual header\n",
    "    for sheet_name, sheet_data in excel_data.items():\n",
    "        # Flatten the DataFrame to a Series for easier searching\n",
    "        # flat_series = sheet_data.stack().astype(str)\n",
    "        \n",
    "        ward_row_index = None\n",
    "        # Check if 'ward_column' is found in any cell\n",
    "        for ward_column in ward_column_list:\n",
    "            # print(f'Searching for Ward_column : {ward_column}')\n",
    "            # if flat_series.str.contains(ward_column, case=False, na=False).any():\n",
    "\n",
    "            # Find all the index of the row containing 'Ward/Project Number' or 'Ward'\n",
    "            matched_rows = sheet_data[sheet_data.apply(lambda row: row.astype(str).str.strip() == ward_column).any(axis=1)]\n",
    "            if len(matched_rows) == 0:\n",
    "                # The result contains nothing\n",
    "                continue\n",
    "            elif len(matched_rows) ==1 and int(year_number)<2019:\n",
    "                ward_row_index = matched_rows.index[0]\n",
    "            else:\n",
    "                # Multiple values have been found                                  \n",
    "                # ward_column =='Ward' \n",
    "                # print(matched_rows)\n",
    "                for index, row in matched_rows.iterrows():\n",
    "                    # print(f'Index is \"{index}\", Row is \"{row}\"')\n",
    "                    # Check if the column to the right of 'Ward' contains 'Project Name'\n",
    "                    ward_col_index = row[row.astype(str).str.strip() == ward_column].index[0]\n",
    "                    # print(f\"Ward_col_index is {ward_col_index}\")\n",
    "                    # if ward_col_index + 1 < len(sheet_data.columns):\n",
    "                    #     # print(len(row))\n",
    "                    #     # print(type(row))\n",
    "                    project_col = row[row.astype(str).str.strip() == 'Project Name']\n",
    "                    # print(f\"Project_col is {project_col}\")\n",
    "                    if project_col.empty:\n",
    "                        continue\n",
    "                    else:\n",
    "                        if int(year_number) >=2019:\n",
    "                            ward_row_index = index\n",
    "                        \n",
    "                        elif int(year_number) == 2010:\n",
    "                            project_col_index = project_col.index[0]\n",
    "                            if  ward_col_index+1 == project_col_index :\n",
    "                                ward_column = row[ward_col_index]\n",
    "                                # 'Ward' is a desired column name\n",
    "                                ward_row_index = index\n",
    "                            break\n",
    "                 \n",
    "            if ward_row_index >=0:\n",
    "                # Ward Column is found    \n",
    "                print(f\"'{ward_column}' found in the sheet '{sheet_name}'.\")\n",
    "                above_budget_cell_value = None\n",
    "                row_values = sheet_data.iloc[ward_row_index].tolist()\n",
    "               \n",
    "                if 'Budget' in row_values:\n",
    "                    # Some files contain the current year number above the \"Budget\" cell\n",
    "                    budget_cell_index = row_values.index('Budget')\n",
    "\n",
    "                    # Ensure the index is not None:\n",
    "                    if budget_cell_index > 0:\n",
    "                        above_budget_cell_value = sheet_data.iloc[ward_row_index - 1, budget_cell_index]\n",
    "                        \n",
    "                # 4) Remove all rows above the 'Ward/Project Number' row and reset the index\n",
    "                if ward_row_index >0 :\n",
    "                    data = sheet_data.iloc[ward_row_index:].reset_index(drop=True)\n",
    "                else:\n",
    "                    data = sheet_data.reset_index(drop=True)\n",
    "                # 5) Set the first row of data as column headers\n",
    "                new_header = data.iloc[0]\n",
    "                data = data[1:]\n",
    "                data.columns = new_header\n",
    "                if above_budget_cell_value:\n",
    "                    data.rename(columns={'Budget': above_budget_cell_value}, inplace=True)\n",
    "                \n",
    "                # 6) Extract all column names and find columns that can be converted to year\n",
    "                year_columns = [(col, get_year_from_column(col)) for col in data.columns]\n",
    "                year_columns = [col for col, year in year_columns if year is not None]\n",
    "\n",
    "                # 7) Get the first two year columns\n",
    "                first_year_column, second_year_column = year_columns[:2]\n",
    "                    \n",
    "                # 8) Keep only necessary columns\n",
    "                if int(year_number)>=2019:\n",
    "                    selected_columns = [ward_column, first_year_column, second_year_column, 'Ward Number']\n",
    "                else:\n",
    "                    selected_columns =[ward_column, first_year_column, second_year_column]\n",
    "                selected_data = data[selected_columns]\n",
    "                    \n",
    "                # 9) Filter the data to keep only rows where 'Ward/Project Number' ends with 'Total'\n",
    "                selected_data.loc[:,ward_column] = selected_data[ward_column].fillna(' ')\n",
    "                # print(selected_data['Ward Number'].unique())\n",
    "                # print(year_number)\n",
    "                if year_number == '2010':\n",
    "                    filtered_data = selected_data[selected_data[ward_column].str.startswith('Ward')]\n",
    "                    # print(f'filtered_data is {filtered_data}')\n",
    "                    filtered_data = filtered_data.dropna(subset=[first_year_column, second_year_column])\n",
    "                elif int(year_number) >=2019:\n",
    "                    # As Ward Number has chosen, those indicating non-numerical value will be removed\n",
    "                    selected_data = selected_data[selected_data['Ward Number'].apply(lambda x: str(x).isdigit())]\n",
    "                    # print(selected_data.head(5))\n",
    "                    original_data= selected_data.copy()\n",
    "\n",
    "                    original_data[first_year_column]= original_data[first_year_column].fillna(0)\n",
    "                    original_data[second_year_column]= original_data[second_year_column].fillna(0)\n",
    "\n",
    "                    original_data[first_year_column] = original_data[first_year_column].apply(to_numeric)\n",
    "                    original_data[second_year_column] = original_data[second_year_column].apply(to_numeric)\n",
    "                    # print(original_data['Ward Number'].unique())\n",
    "\n",
    "                    # List of columns to sum\n",
    "                    columns_to_sum = [first_year_column, second_year_column]  # replace with your actual column names\n",
    "                    # Perform the sum operation and keep all other columns\n",
    "                    original_data[columns_to_sum] = original_data.groupby('Ward Number')[columns_to_sum].transform('sum')\n",
    "                    filtered_data = original_data\n",
    "                    # filtered_data= original_data.groupby('Ward Number').sum().reset_index()\\\n",
    "                    # Try to avoid using groupby this way, the non-numerical columns will be grouped as well\n",
    "                    filtered_data = filtered_data.rename(columns={\n",
    "                        'Ward Number':'Ward_Number'\n",
    "                    })\n",
    "                    # print(filtered_data)\n",
    "                else:\n",
    "                    filtered_data = selected_data[selected_data[ward_column].str.endswith('Total')]\n",
    "\n",
    "                # 10) Insert 'Year' column and reorder the columns\n",
    "                if inserted_column is not None:\n",
    "                    filtered_data = filtered_data.copy()\n",
    "                    filtered_data[inserted_column]= first_year_column\n",
    "                    if int(year_number)>=2019:\n",
    "                        ordered_columns =[ward_column, inserted_column, first_year_column, second_year_column, 'Ward_Number']\n",
    "                    else:\n",
    "                        ordered_columns =[ward_column, inserted_column, first_year_column, second_year_column]\n",
    "                    filtered_data = filtered_data[ordered_columns]\n",
    "                    filtered_data = filtered_data.rename(columns={\n",
    "                        ward_column: ward_column_list[0],\n",
    "                        first_year_column: rename_column_1,\n",
    "                        second_year_column : rename_column_2\n",
    "                    })\n",
    "                # 11) Drop duplicates and null values\n",
    "                filtered_data = filtered_data.drop_duplicates()\n",
    "                filtered_data = filtered_data.dropna()\n",
    "    # print(filtered_data)    \n",
    "    return filtered_data"
   ]
  },
  {
   "cell_type": "markdown",
   "metadata": {},
   "source": [
    "- 2.3.6 Function for Data ETL"
   ]
  },
  {
   "cell_type": "code",
   "execution_count": 10,
   "metadata": {},
   "outputs": [],
   "source": [
    "def data_etl(download_folder, ward_column_list, sheet_name=None, inserted_column = None, rename_column_1 = None, rename_column_2 = None ):    \n",
    "    \n",
    "    # 0) Initialize an empty DataFrame for combining data\n",
    "    column_list =[ward_column_list[0], inserted_column, rename_column_1, rename_column_2]\n",
    "    budget_df = pd.DataFrame(columns=column_list)\n",
    "\n",
    "    # 1) Get the absolute path of the download folder\n",
    "    folder_path = os.path.abspath(download_folder)\n",
    "\n",
    "    # 2) Iterate over all Excel files in the folder\n",
    "    for file_name in os.listdir(folder_path):\n",
    "        if file_name.endswith('.xlsx') or file_name.endswith('.xls'):\n",
    "            year_number = file_name[0:4]\n",
    "            if '20' in file_name:\n",
    "                \n",
    "                file_path = os.path.join(folder_path, file_name)\n",
    "                if file_name.endswith('.xls') and '2010' in file_name:\n",
    "                    # !This is very important! The merged cells in the Excel must be unmerged and filled before loading the values into a dataframe\n",
    "                    xlsx_path = file_path.replace('.xls','.xlsx')\n",
    "                    # print(file_name)\n",
    "                    convert_xls_to_xlsx(file_path,xlsx_path)\n",
    "                    fill_unmerged_cells(xlsx_path)\n",
    "                    continue\n",
    "                \n",
    "                print(f'Extracting data for Year \"{file_name[0:4]}\"....')\n",
    "                sheet_names = pd.ExcelFile(file_path).sheet_names\n",
    "                filtered_data = data_processing(file_path, ward_column_list, sheet_names[0], inserted_column, rename_column_1, rename_column_2)\n",
    "                if filtered_data is not None and not filtered_data.empty:\n",
    "                    budget_df = budget_df.copy()\n",
    "                    budget_df = pd.concat([budget_df, filtered_data], ignore_index=True)\n",
    "                    print('Budget Data has been found')\n",
    "                else:\n",
    "                    print('Budget Data not found.')\n",
    "    # print(budget_df)\n",
    "    return budget_df\n",
    "            "
   ]
  },
  {
   "cell_type": "markdown",
   "metadata": {},
   "source": [
    "### 3. Data Calculating for Reporting (Visualization)"
   ]
  },
  {
   "cell_type": "markdown",
   "metadata": {},
   "source": [
    "- **3.1 Subfunction 1 to generate the ward mapping (ward number : ward name)**"
   ]
  },
  {
   "cell_type": "code",
   "execution_count": 11,
   "metadata": {},
   "outputs": [],
   "source": [
    "def get_ward_mapping(extracted_data_file, ward_column_list, year_number=2010):   \n",
    "    # Read csv file\n",
    "    extracted_budget_data = pd.read_csv(extracted_data_file)\n",
    "    budget_year_number = extracted_budget_data[extracted_budget_data['Year'] == year_number]\n",
    "\n",
    "    # Get ward information\n",
    "    ward_info = budget_year_number[ward_column_list[0]].unique()\n",
    "    \n",
    "    # Generate ward info mapping\n",
    "    ward_mapping = {}\n",
    "    for ward in ward_info:\n",
    "        # print(ward)\n",
    "        match = re.match(r'Ward\\s+(\\d+)\\s+(.*)', ward)\n",
    "        if match:\n",
    "            number = match.group(1)\n",
    "            name = match.group(2).strip()\n",
    "            # Format the ward number to be 2-digit\n",
    "            formatted_number = f\"{int(number):02d}\"\n",
    "            # Generate mappings\n",
    "            ward_mapping[formatted_number] = name\n",
    "            # print(f\"Parsed '{ward}' as number: {formatted_number}, name: {name}\")\n",
    "        else:\n",
    "            print(f\"Failed to parse '{ward}'\")\n",
    "\n",
    "    # Print out the result\n",
    "    # print(ward_mapping)\n",
    "    return ward_mapping\n",
    "# ward_mapping = get_ward_mapping(extracted_data_file, ward_column_list)\n",
    "# ward_mapping"
   ]
  },
  {
   "cell_type": "markdown",
   "metadata": {},
   "source": [
    "- **3.2 Subfunction 2 to extract Ward Number as a new column**"
   ]
  },
  {
   "cell_type": "code",
   "execution_count": 12,
   "metadata": {},
   "outputs": [],
   "source": [
    "def extract_and_format_number(ward):\n",
    "    matches = re.findall(r'\\d+', ward)\n",
    "    if matches:\n",
    "        number = matches[0]\n",
    "        # Format number to be 2-digit\n",
    "        formatted_number = f\"{int(number):02d}\"\n",
    "        return formatted_number\n",
    "    return None"
   ]
  },
  {
   "cell_type": "markdown",
   "metadata": {},
   "source": [
    "- **3.3 Function to calculate the extracted data**"
   ]
  },
  {
   "cell_type": "code",
   "execution_count": 13,
   "metadata": {},
   "outputs": [],
   "source": [
    "def data_calculating(extracted_data_file, ward_mapping, ward_column_list, scale = False):\n",
    "    budget_data = pd.read_csv(extracted_data_file)   \n",
    "    # Apply the function only to rows where Year is less than 2019\n",
    "    mask = budget_data['Year'] < 2019\n",
    "    budget_data.loc[mask, 'Ward_Number'] = budget_data.loc[mask, ward_column_list[0]].apply(extract_and_format_number)\n",
    "    # budget_data['Ward_Number']= budget_data[ward_column_list[0]].apply(extract_and_format_number)\n",
    "    \n",
    "    budget_data.loc[mask,'Ward_Name'] = budget_data.loc[mask,'Ward_Number'].map(ward_mapping)\n",
    "\n",
    "    # For rows where Year is 2019 or later, directly copy the values\n",
    "    mask_from_2019 = budget_data['Year'] >= 2019\n",
    "    # print(budget_data)\n",
    "    budget_data.loc[mask_from_2019, 'Ward_Name'] = budget_data.loc[mask_from_2019, ward_column_list[0]]\n",
    "\n",
    "    budget_data = budget_data[budget_data[ward_column_list[0]]!='DO NOT USE']\n",
    "    budget_data[rename_column_1] = budget_data[rename_column_1].apply(to_numeric)\n",
    "    budget_data[rename_column_2] = budget_data[rename_column_2].apply(to_numeric)\n",
    "\n",
    "    budget_data_sorted = budget_data.sort_values(by=['Year', 'Ward_Number'])\n",
    "\n",
    "    if scale:\n",
    "        # Initialize MinMaxScaler\n",
    "        scaler = MinMaxScaler()\n",
    "\n",
    "        # Scale the specified columns to the range [0, 1]\n",
    "        for column in [rename_column_1, rename_column_1]:\n",
    "            if column in budget_data_sorted.columns:\n",
    "                budget_data_sorted[column] = scaler.fit_transform(budget_data_sorted[[column]])\n",
    "    \n",
    "    budget_data_sorted = budget_data_sorted.dropna()\n",
    "    budget_data_sorted = budget_data_sorted.drop_duplicates()\n",
    "    # print(budget_data_sorted)\n",
    "    return budget_data_sorted\n"
   ]
  },
  {
   "cell_type": "markdown",
   "metadata": {},
   "source": [
    "### 4. Data Visualization"
   ]
  },
  {
   "cell_type": "markdown",
   "metadata": {},
   "source": [
    "- **4.1 Create dynamic and interative bar chart using Plotly.** "
   ]
  },
  {
   "cell_type": "code",
   "execution_count": 14,
   "metadata": {},
   "outputs": [],
   "source": [
    "def data_visualizing(report_data_file,rename_column_1, purple_color= purple_color, family= family):\n",
    "    report_data = pd.read_csv(report_data_file)\n",
    "\n",
    "    # Convert the negative values into small positive values \n",
    "    report_data[rename_column_1] = report_data[rename_column_1].apply(lambda x: x if x > 0 else 0.1)\n",
    "\n",
    "    fig = px.bar(report_data,\n",
    "                y=\"Ward_Number\",\n",
    "                x =rename_column_1,\n",
    "                title=\"Toronto Budgets By Ward (Year 2010 to Year 2024)\",\n",
    "\n",
    "                labels={'Ward_Name': 'Ward', 'Budget_Year_1': 'Budget'},\n",
    "                text= 'Ward_Name',\n",
    "                color = rename_column_1,\n",
    "                color_continuous_scale='Sunset',  \n",
    "                log_x=True,\n",
    "                orientation='h',\n",
    "                animation_frame='Year',  \n",
    "                range_x=[0.01, report_data[rename_column_1].max() * 1.1] \n",
    "                )\n",
    "\n",
    "    fig.update_traces(\n",
    "        texttemplate='%{text}',  \n",
    "        textposition='inside',  \n",
    "        insidetextanchor='end',  \n",
    "        textfont_size=12,  \n",
    "    )\n",
    "    fig.update_layout(\n",
    "        width=900, \n",
    "        height=900,  \n",
    "        yaxis=dict(tickmode='linear'),  \n",
    "        transition={'duration': 1000},  \n",
    "        xaxis_title=\"Budget In $1000\",  \n",
    "        title_font = dict(size = 18, color = purple_color, family = family),\n",
    "    )\n",
    "\n",
    "    fig.update_layout(\n",
    "        annotations=[\n",
    "            dict(\n",
    "                x=1, y=1.06,\n",
    "                xref='paper', yref='paper',\n",
    "                text='Julia Ren, https://github.com/renrihui8415/',\n",
    "                showarrow=False,\n",
    "                font=dict(size=10, color=purple_color),\n",
    "                align='right',\n",
    "                xanchor='right',\n",
    "                yanchor='top'\n",
    "            ),\n",
    "            dict(\n",
    "                x=0, y=1.02,\n",
    "                xref='paper', yref='paper',\n",
    "                text='The visualization shows how annual budgets for Toronto''s wards, which decreased from 44 to 25 after 2019, have evolved from 2010 to 2024, with each bar representing a ward.',\n",
    "                showarrow=False,\n",
    "                font=dict(size=10, color=purple_color),\n",
    "                align='left',\n",
    "                xanchor='left',\n",
    "                yanchor='top'\n",
    "            ),\n",
    "            dict(\n",
    "                x=0, y=1.04,\n",
    "                xref='paper', yref='paper',\n",
    "                text='Data Source: [Toronto Open Data](https://open.toronto.ca/dataset/budget-capital-budget-plan-by-ward-10-yr-approved/)',\n",
    "                showarrow=False,\n",
    "                font=dict(size=10, color=purple_color),\n",
    "                align='left',\n",
    "                xanchor='left',\n",
    "                yanchor='top'\n",
    "            ),\n",
    "\n",
    "            dict(\n",
    "                x=1, y=1.08,\n",
    "                xref='paper', yref='paper',\n",
    "                text='Date: August 2024',\n",
    "                showarrow=False,\n",
    "                font=dict(size=10, color=purple_color),\n",
    "                align='right'\n",
    "            ),\n",
    "        ]\n",
    "    )\n",
    "\n",
    "    # Control speed\n",
    "    fig.layout.updatemenus[0].buttons[0].args[1]['frame']['duration'] = 2000  \n",
    "    fig.layout.updatemenus[0].buttons[0].args[1]['transition']['duration'] = 2000  \n",
    "    fig.update_layout(autosize=True)\n",
    "\n",
    "    fig.show()\n"
   ]
  },
  {
   "cell_type": "markdown",
   "metadata": {},
   "source": [
    "### 5. Main() Function to streamline and automate data visualization, data processing and data analysis."
   ]
  },
  {
   "cell_type": "code",
   "execution_count": 15,
   "metadata": {},
   "outputs": [
    {
     "name": "stdout",
     "output_type": "stream",
     "text": [
      "Step 1. Download links have been obtained.\n",
      "Downloaded data/2010-to-2019-city-program-by-ward.xls\n",
      "Downloaded data/2011-to-2020-capital-budget-plan-by-ward.xls\n",
      "Downloaded data/2012-to-2021-city-program-by-ward.xlsx\n",
      "Downloaded data/2013-to-2022-city-program-by-ward.xlsx\n",
      "Downloaded data/2014-to-2023-capital-budget-plan-by-ward.xlsx\n",
      "Downloaded data/2015-to-2024-capital-budget-plan-by-ward.xls\n",
      "Downloaded data/2016-to-2025-capital-budget-plan-by-ward.xls\n",
      "Downloaded data/2017-to-2026-capital-budget-plan-by-ward.xlsx\n",
      "Downloaded data/2018-to-2027-capital-budget-plan-by-ward.xlsx\n",
      "Downloaded data/2018-to-2027-capital-budget-plan-by-program.xlsx\n",
      "Downloaded data/2019-2028-capital-budget-and-plan-details.xlsx\n",
      "Downloaded data/2020-to-2029-capital-budget-plan-by-ward.xlsx\n",
      "Downloaded data/2021-2030-capital-budget-and-plan-details.xlsx\n",
      "Downloaded data/2022-2031-capital-budget-and-plan-details.xlsx\n",
      "Downloaded data/2023-2032-capital-budget-and-plan-details.xlsx\n",
      "Downloaded data/2024-2033-capital-budget-and-plan-details.xlsx\n",
      "Step 2. Data files have been download in '/Users/julia/Desktop/Life/DSI/9. visualization/04_cohort_three/live_code/data'. \n",
      "Extracting data for Year \"2012\"....\n",
      "'Ward/Project Num.' found in the sheet 'Updated Format'.\n",
      "Budget Data has been found\n",
      "Extracting data for Year \"2011\"....\n",
      "'Ward' found in the sheet 'Q4_PH5-nosum_TotSub_Xcl_Cfd'.\n",
      "Budget Data has been found\n",
      "Extracting data for Year \"2019\"....\n",
      "'Ward' found in the sheet '2019-2028'.\n",
      "Budget Data has been found\n",
      "Extracting data for Year \"2022\"....\n",
      "'Ward' found in the sheet '2022-2031'.\n",
      "Budget Data has been found\n",
      "Extracting data for Year \"2016\"....\n",
      "'Ward/Project Number' found in the sheet '2016 by ward'.\n",
      "Budget Data has been found\n",
      "Unmerged cells have been saved for Year: 2010\n",
      "Extracting data for Year \"2017\"....\n",
      "'Ward Name' found in the sheet '2017-26 Capital Projects - Ward'.\n",
      "Budget Data has been found\n",
      "Extracting data for Year \"2010\"....\n",
      "'Ward ' found in the sheet 'Sheet2 (2)'.\n",
      "Budget Data has been found\n",
      "Extracting data for Year \"2018\"....\n",
      "'Ward Name' found in the sheet 'Sheet2'.\n",
      "Budget Data has been found\n",
      "Extracting data for Year \"2015\"....\n",
      "'Ward/Project Number' found in the sheet 'Sheet1'.\n",
      "Budget Data has been found\n",
      "Extracting data for Year \"2018\"....\n",
      "Budget Data not found.\n",
      "Extracting data for Year \"2014\"....\n",
      "'Ward/Project Number' found in the sheet 'Projects BY Ward'.\n",
      "Budget Data has been found\n",
      "Extracting data for Year \"2023\"....\n",
      "'Ward' found in the sheet '2023-2032'.\n",
      "Budget Data has been found\n",
      "Extracting data for Year \"2024\"....\n",
      "'Ward' found in the sheet '2024-2032'.\n",
      "Budget Data has been found\n",
      "Extracting data for Year \"2021\"....\n",
      "'Ward' found in the sheet '2021-2030'.\n",
      "Budget Data has been found\n",
      "Extracting data for Year \"2020\"....\n",
      "'Ward' found in the sheet '2020-2029'.\n",
      "Budget Data has been found\n",
      "Extracting data for Year \"2013\"....\n",
      "'Ward/Project Number' found in the sheet 'Projects BY Ward'.\n",
      "Budget Data has been found\n",
      "Step 3. Budget data has been extracted and saved.\n",
      "Step 4. Report data have been calculated and saved.\n",
      "Step 5. Dynamic Bar Plot has been generated.\n",
      "Upon first playback, there may be a 1-second delay.\n"
     ]
    },
    {
     "data": {
      "application/vnd.plotly.v1+json": {
       "config": {
        "plotlyServerURL": "https://plot.ly"
       },
       "data": [
        {
         "alignmentgroup": "True",
         "hovertemplate": "Year=2010<br>Budget=%{marker.color}<br>Ward_Number=%{y}<br>Ward=%{text}<extra></extra>",
         "insidetextanchor": "end",
         "legendgroup": "",
         "marker": {
          "color": [
           3506,
           7226,
           375,
           644,
           9067,
           3540,
           1654,
           2404,
           1160,
           75,
           6396,
           507,
           96,
           974,
           1580,
           1761,
           1121,
           2229,
           650,
           12785,
           16561,
           75,
           4869,
           14800,
           399,
           611,
           2588,
           32070,
           149527,
           1471,
           1809,
           563,
           4834,
           816,
           1168,
           7863,
           1675,
           3847,
           2768,
           2355,
           3400,
           742,
           3020,
           4195,
           1235
          ],
          "coloraxis": "coloraxis",
          "pattern": {
           "shape": ""
          }
         },
         "name": "",
         "offsetgroup": "",
         "orientation": "h",
         "showlegend": false,
         "text": [
          "Etobicoke North",
          "Etobicoke North",
          "Etobicoke Centre",
          "Etobicoke Centre",
          "Etobicoke Lakeshore",
          "Etobicoke Lakeshore",
          "York West",
          "York West",
          "York West",
          "York Centre",
          "York Centre",
          "York South-Weston",
          "York South-Weston",
          "Parkdale-High Park",
          "Parkdale-High Park",
          "Eglinton-Lawrence",
          "Eglinton-Lawrence",
          "Davenport",
          "Davenport",
          "Trinity-Spadina",
          "Trinity-Spadina",
          "St. Paul's",
          "St. Paul's",
          "Willowdale",
          "Willowdale",
          "Don Valley West",
          "Don Valley West",
          "To. Centre-Rosedale",
          "To. Centre-Rosedale",
          "To--Danforth",
          "Broadview-Greenwood",
          "Beaches-East York",
          "Beaches-East York",
          "Don Valley East",
          "Don Valley East",
          "Scarborough Southwest",
          "Scarborough Southwest",
          "Scarhborough Centre",
          "Scarborough Centre",
          "Scarborough-Agincourt",
          "Scrborough-Agincourt",
          "Scarborough-Rouge River",
          "Scarborough-Rouge River",
          "Scarborough-East",
          "Scarborough-East"
         ],
         "textfont": {
          "size": 12
         },
         "textposition": "inside",
         "texttemplate": "%{text}",
         "type": "bar",
         "x": [
          3506,
          7226,
          375,
          644,
          9067,
          3540,
          1654,
          2404,
          1160,
          75,
          6396,
          507,
          96,
          974,
          1580,
          1761,
          1121,
          2229,
          650,
          12785,
          16561,
          75,
          4869,
          14800,
          399,
          611,
          2588,
          32070,
          149527,
          1471,
          1809,
          563,
          4834,
          816,
          1168,
          7863,
          1675,
          3847,
          2768,
          2355,
          3400,
          742,
          3020,
          4195,
          1235
         ],
         "xaxis": "x",
         "y": [
          1,
          2,
          3,
          4,
          5,
          6,
          7,
          7,
          8,
          9,
          10,
          11,
          12,
          13,
          14,
          15,
          16,
          17,
          18,
          19,
          20,
          21,
          22,
          23,
          24,
          25,
          26,
          27,
          28,
          29,
          30,
          31,
          32,
          33,
          34,
          35,
          36,
          37,
          38,
          39,
          40,
          41,
          42,
          43,
          44
         ],
         "yaxis": "y"
        }
       ],
       "frames": [
        {
         "data": [
          {
           "alignmentgroup": "True",
           "hovertemplate": "Year=2010<br>Budget=%{marker.color}<br>Ward_Number=%{y}<br>Ward=%{text}<extra></extra>",
           "legendgroup": "",
           "marker": {
            "color": [
             3506,
             7226,
             375,
             644,
             9067,
             3540,
             1654,
             2404,
             1160,
             75,
             6396,
             507,
             96,
             974,
             1580,
             1761,
             1121,
             2229,
             650,
             12785,
             16561,
             75,
             4869,
             14800,
             399,
             611,
             2588,
             32070,
             149527,
             1471,
             1809,
             563,
             4834,
             816,
             1168,
             7863,
             1675,
             3847,
             2768,
             2355,
             3400,
             742,
             3020,
             4195,
             1235
            ],
            "coloraxis": "coloraxis",
            "pattern": {
             "shape": ""
            }
           },
           "name": "",
           "offsetgroup": "",
           "orientation": "h",
           "showlegend": false,
           "text": [
            "Etobicoke North",
            "Etobicoke North",
            "Etobicoke Centre",
            "Etobicoke Centre",
            "Etobicoke Lakeshore",
            "Etobicoke Lakeshore",
            "York West",
            "York West",
            "York West",
            "York Centre",
            "York Centre",
            "York South-Weston",
            "York South-Weston",
            "Parkdale-High Park",
            "Parkdale-High Park",
            "Eglinton-Lawrence",
            "Eglinton-Lawrence",
            "Davenport",
            "Davenport",
            "Trinity-Spadina",
            "Trinity-Spadina",
            "St. Paul's",
            "St. Paul's",
            "Willowdale",
            "Willowdale",
            "Don Valley West",
            "Don Valley West",
            "To. Centre-Rosedale",
            "To. Centre-Rosedale",
            "To--Danforth",
            "Broadview-Greenwood",
            "Beaches-East York",
            "Beaches-East York",
            "Don Valley East",
            "Don Valley East",
            "Scarborough Southwest",
            "Scarborough Southwest",
            "Scarhborough Centre",
            "Scarborough Centre",
            "Scarborough-Agincourt",
            "Scrborough-Agincourt",
            "Scarborough-Rouge River",
            "Scarborough-Rouge River",
            "Scarborough-East",
            "Scarborough-East"
           ],
           "textposition": "auto",
           "type": "bar",
           "x": [
            3506,
            7226,
            375,
            644,
            9067,
            3540,
            1654,
            2404,
            1160,
            75,
            6396,
            507,
            96,
            974,
            1580,
            1761,
            1121,
            2229,
            650,
            12785,
            16561,
            75,
            4869,
            14800,
            399,
            611,
            2588,
            32070,
            149527,
            1471,
            1809,
            563,
            4834,
            816,
            1168,
            7863,
            1675,
            3847,
            2768,
            2355,
            3400,
            742,
            3020,
            4195,
            1235
           ],
           "xaxis": "x",
           "y": [
            1,
            2,
            3,
            4,
            5,
            6,
            7,
            7,
            8,
            9,
            10,
            11,
            12,
            13,
            14,
            15,
            16,
            17,
            18,
            19,
            20,
            21,
            22,
            23,
            24,
            25,
            26,
            27,
            28,
            29,
            30,
            31,
            32,
            33,
            34,
            35,
            36,
            37,
            38,
            39,
            40,
            41,
            42,
            43,
            44
           ],
           "yaxis": "y"
          }
         ],
         "name": "2010"
        },
        {
         "data": [
          {
           "alignmentgroup": "True",
           "hovertemplate": "Year=2011<br>Budget=%{marker.color}<br>Ward_Number=%{y}<br>Ward=%{text}<extra></extra>",
           "legendgroup": "",
           "marker": {
            "color": [
             1000,
             25066,
             1000,
             450,
             4556.45,
             1782,
             6025,
             415,
             1500,
             909,
             1866,
             6671,
             747,
             160,
             358,
             240,
             2063,
             4400,
             11199,
             12358,
             5651,
             1889,
             7123,
             415,
             1450,
             7669,
             37113.77,
             128036.2,
             1759,
             3573,
             709,
             6340,
             839,
             150,
             1391,
             4167,
             1907,
             775,
             0.1,
             1460,
             2150,
             4738,
             650
            ],
            "coloraxis": "coloraxis",
            "pattern": {
             "shape": ""
            }
           },
           "name": "",
           "offsetgroup": "",
           "orientation": "h",
           "showlegend": false,
           "text": [
            "Etobicoke North",
            "Etobicoke North",
            "Etobicoke Centre",
            "Etobicoke Centre",
            "Etobicoke Lakeshore",
            "Etobicoke Lakeshore",
            "York West",
            "York West",
            "York Centre",
            "York Centre",
            "York South-Weston",
            "York South-Weston",
            "Parkdale-High Park",
            "Parkdale-High Park",
            "Eglinton-Lawrence",
            "Eglinton-Lawrence",
            "Davenport",
            "Davenport",
            "Trinity-Spadina",
            "Trinity-Spadina",
            "St. Paul's",
            "St. Paul's",
            "Willowdale",
            "Willowdale",
            "Don Valley West",
            "Don Valley West",
            "To. Centre-Rosedale",
            "To--Danforth",
            "To--Danforth",
            "Broadview-Greenwood",
            "Beaches-East York",
            "Beaches-East York",
            "Don Valley East",
            "Scarborough Southwest",
            "Scarborough Southwest",
            "Scarhborough Centre",
            "Scarborough Centre",
            "Scarborough-Agincourt",
            "Scrborough-Agincourt",
            "Scarborough-Rouge River",
            "Scarborough-Rouge River",
            "Scarborough-East",
            "Scarborough-East"
           ],
           "textposition": "auto",
           "type": "bar",
           "x": [
            1000,
            25066,
            1000,
            450,
            4556.45,
            1782,
            6025,
            415,
            1500,
            909,
            1866,
            6671,
            747,
            160,
            358,
            240,
            2063,
            4400,
            11199,
            12358,
            5651,
            1889,
            7123,
            415,
            1450,
            7669,
            37113.77,
            128036.2,
            1759,
            3573,
            709,
            6340,
            839,
            150,
            1391,
            4167,
            1907,
            775,
            0.1,
            1460,
            2150,
            4738,
            650
           ],
           "xaxis": "x",
           "y": [
            1,
            2,
            3,
            4,
            5,
            6,
            7,
            8,
            9,
            10,
            11,
            12,
            13,
            14,
            15,
            16,
            17,
            18,
            19,
            20,
            21,
            22,
            23,
            24,
            25,
            26,
            27,
            29,
            29,
            30,
            31,
            32,
            34,
            35,
            36,
            37,
            38,
            39,
            40,
            41,
            42,
            43,
            44
           ],
           "yaxis": "y"
          }
         ],
         "name": "2011"
        },
        {
         "data": [
          {
           "alignmentgroup": "True",
           "hovertemplate": "Year=2012<br>Budget=%{marker.color}<br>Ward_Number=%{y}<br>Ward=%{text}<extra></extra>",
           "legendgroup": "",
           "marker": {
            "color": [
             156,
             17800,
             0.1,
             0.1,
             2535,
             2260,
             0.1,
             350,
             4600,
             2300,
             2046,
             16628,
             89,
             0.1,
             80,
             46,
             0.1,
             2326,
             12598,
             14970,
             2216,
             150,
             1400,
             340,
             325,
             7294,
             29282.77,
             115266,
             506,
             2467,
             200,
             499,
             2241,
             491,
             756,
             50,
             976,
             2974,
             2550,
             0.1,
             800,
             900,
             1700,
             50
            ],
            "coloraxis": "coloraxis",
            "pattern": {
             "shape": ""
            }
           },
           "name": "",
           "offsetgroup": "",
           "orientation": "h",
           "showlegend": false,
           "text": [
            "Etobicoke North",
            "Etobicoke North",
            "Etobicoke Centre",
            "Etobicoke Centre",
            "Etobicoke Lakeshore",
            "Etobicoke Lakeshore",
            "York West",
            "York West",
            "York Centre",
            "York Centre",
            "York South-Weston",
            "York South-Weston",
            "Parkdale-High Park",
            "Parkdale-High Park",
            "Eglinton-Lawrence",
            "Eglinton-Lawrence",
            "Davenport",
            "Davenport",
            "Trinity-Spadina",
            "Trinity-Spadina",
            "St. Paul's",
            "St. Paul's",
            "Willowdale",
            "Willowdale",
            "Don Valley West",
            "Don Valley West",
            "To. Centre-Rosedale",
            "To. Centre-Rosedale",
            "To--Danforth",
            "Broadview-Greenwood",
            "Beaches-East York",
            "Beaches-East York",
            "Don Valley East",
            "Don Valley East",
            "Scarborough Southwest",
            "Scarborough Southwest",
            "Scarhborough Centre",
            "Scarborough Centre",
            "Scarborough-Agincourt",
            "Scrborough-Agincourt",
            "Scarborough-Rouge River",
            "Scarborough-Rouge River",
            "Scarborough-East",
            "Scarborough-East"
           ],
           "textposition": "auto",
           "type": "bar",
           "x": [
            156,
            17800,
            0.1,
            0.1,
            2535,
            2260,
            0.1,
            350,
            4600,
            2300,
            2046,
            16628,
            89,
            0.1,
            80,
            46,
            0.1,
            2326,
            12598,
            14970,
            2216,
            150,
            1400,
            340,
            325,
            7294,
            29282.77,
            115266,
            506,
            2467,
            200,
            499,
            2241,
            491,
            756,
            50,
            976,
            2974,
            2550,
            0.1,
            800,
            900,
            1700,
            50
           ],
           "xaxis": "x",
           "y": [
            1,
            2,
            3,
            4,
            5,
            6,
            7,
            8,
            9,
            10,
            11,
            12,
            13,
            14,
            15,
            16,
            17,
            18,
            19,
            20,
            21,
            22,
            23,
            24,
            25,
            26,
            27,
            28,
            29,
            30,
            31,
            32,
            33,
            34,
            35,
            36,
            37,
            38,
            39,
            40,
            41,
            42,
            43,
            44
           ],
           "yaxis": "y"
          }
         ],
         "name": "2012"
        },
        {
         "data": [
          {
           "alignmentgroup": "True",
           "hovertemplate": "Year=2013<br>Budget=%{marker.color}<br>Ward_Number=%{y}<br>Ward=%{text}<extra></extra>",
           "legendgroup": "",
           "marker": {
            "color": [
             256,
             16562,
             0.1,
             450,
             1256,
             2701,
             0.1,
             2050,
             2586,
             700,
             6182,
             3668,
             3563,
             810,
             888,
             1523,
             100,
             6975,
             14543,
             18072,
             12282,
             1090,
             1863,
             6506,
             381,
             6020,
             22497,
             163153,
             200,
             1531,
             326,
             1695,
             3098,
             2219,
             0.1,
             525,
             7026,
             3268,
             2350,
             0.1,
             3053,
             3000,
             1490,
             1036
            ],
            "coloraxis": "coloraxis",
            "pattern": {
             "shape": ""
            }
           },
           "name": "",
           "offsetgroup": "",
           "orientation": "h",
           "showlegend": false,
           "text": [
            "Etobicoke North",
            "Etobicoke North",
            "Etobicoke Centre",
            "Etobicoke Centre",
            "Etobicoke Lakeshore",
            "Etobicoke Lakeshore",
            "York West",
            "York West",
            "York Centre",
            "York Centre",
            "York South-Weston",
            "York South-Weston",
            "Parkdale-High Park",
            "Parkdale-High Park",
            "Eglinton-Lawrence",
            "Eglinton-Lawrence",
            "Davenport",
            "Davenport",
            "Trinity-Spadina",
            "Trinity-Spadina",
            "St. Paul's",
            "St. Paul's",
            "Willowdale",
            "Willowdale",
            "Don Valley West",
            "Don Valley West",
            "To. Centre-Rosedale",
            "To. Centre-Rosedale",
            "To--Danforth",
            "Broadview-Greenwood",
            "Beaches-East York",
            "Beaches-East York",
            "Don Valley East",
            "Don Valley East",
            "Scarborough Southwest",
            "Scarborough Southwest",
            "Scarhborough Centre",
            "Scarborough Centre",
            "Scarborough-Agincourt",
            "Scrborough-Agincourt",
            "Scarborough-Rouge River",
            "Scarborough-Rouge River",
            "Scarborough-East",
            "Scarborough-East"
           ],
           "textposition": "auto",
           "type": "bar",
           "x": [
            256,
            16562,
            0.1,
            450,
            1256,
            2701,
            0.1,
            2050,
            2586,
            700,
            6182,
            3668,
            3563,
            810,
            888,
            1523,
            100,
            6975,
            14543,
            18072,
            12282,
            1090,
            1863,
            6506,
            381,
            6020,
            22497,
            163153,
            200,
            1531,
            326,
            1695,
            3098,
            2219,
            0.1,
            525,
            7026,
            3268,
            2350,
            0.1,
            3053,
            3000,
            1490,
            1036
           ],
           "xaxis": "x",
           "y": [
            1,
            2,
            3,
            4,
            5,
            6,
            7,
            8,
            9,
            10,
            11,
            12,
            13,
            14,
            15,
            16,
            17,
            18,
            19,
            20,
            21,
            22,
            23,
            24,
            25,
            26,
            27,
            28,
            29,
            30,
            31,
            32,
            33,
            34,
            35,
            36,
            37,
            38,
            39,
            40,
            41,
            42,
            43,
            44
           ],
           "yaxis": "y"
          }
         ],
         "name": "2013"
        },
        {
         "data": [
          {
           "alignmentgroup": "True",
           "hovertemplate": "Year=2014<br>Budget=%{marker.color}<br>Ward_Number=%{y}<br>Ward=%{text}<extra></extra>",
           "legendgroup": "",
           "marker": {
            "color": [
             1446,
             6304,
             165,
             882,
             2617,
             2088,
             50,
             592,
             906,
             808,
             3000,
             4900,
             3051,
             1300,
             1619,
             3298,
             234,
             4941,
             4727,
             5567,
             1027,
             4189,
             4092,
             1064,
             2385,
             1033,
             17899,
             31758.5,
             6061,
             3582,
             790,
             2286,
             985,
             1001,
             256,
             340,
             2087,
             3824,
             2016,
             175,
             1653,
             257,
             1210,
             1726
            ],
            "coloraxis": "coloraxis",
            "pattern": {
             "shape": ""
            }
           },
           "name": "",
           "offsetgroup": "",
           "orientation": "h",
           "showlegend": false,
           "text": [
            "Etobicoke North",
            "Etobicoke North",
            "Etobicoke Centre",
            "Etobicoke Centre",
            "Etobicoke Lakeshore",
            "Etobicoke Lakeshore",
            "York West",
            "York West",
            "York Centre",
            "York Centre",
            "York South-Weston",
            "York South-Weston",
            "Parkdale-High Park",
            "Parkdale-High Park",
            "Eglinton-Lawrence",
            "Eglinton-Lawrence",
            "Davenport",
            "Davenport",
            "Trinity-Spadina",
            "Trinity-Spadina",
            "St. Paul's",
            "St. Paul's",
            "Willowdale",
            "Willowdale",
            "Don Valley West",
            "Don Valley West",
            "To. Centre-Rosedale",
            "To. Centre-Rosedale",
            "To--Danforth",
            "Broadview-Greenwood",
            "Beaches-East York",
            "Beaches-East York",
            "Don Valley East",
            "Don Valley East",
            "Scarborough Southwest",
            "Scarborough Southwest",
            "Scarhborough Centre",
            "Scarborough Centre",
            "Scarborough-Agincourt",
            "Scrborough-Agincourt",
            "Scarborough-Rouge River",
            "Scarborough-Rouge River",
            "Scarborough-East",
            "Scarborough-East"
           ],
           "textposition": "auto",
           "type": "bar",
           "x": [
            1446,
            6304,
            165,
            882,
            2617,
            2088,
            50,
            592,
            906,
            808,
            3000,
            4900,
            3051,
            1300,
            1619,
            3298,
            234,
            4941,
            4727,
            5567,
            1027,
            4189,
            4092,
            1064,
            2385,
            1033,
            17899,
            31758.5,
            6061,
            3582,
            790,
            2286,
            985,
            1001,
            256,
            340,
            2087,
            3824,
            2016,
            175,
            1653,
            257,
            1210,
            1726
           ],
           "xaxis": "x",
           "y": [
            1,
            2,
            3,
            4,
            5,
            6,
            7,
            8,
            9,
            10,
            11,
            12,
            13,
            14,
            15,
            16,
            17,
            18,
            19,
            20,
            21,
            22,
            23,
            24,
            25,
            26,
            27,
            28,
            29,
            30,
            31,
            32,
            33,
            34,
            35,
            36,
            37,
            38,
            39,
            40,
            41,
            42,
            43,
            44
           ],
           "yaxis": "y"
          }
         ],
         "name": "2014"
        },
        {
         "data": [
          {
           "alignmentgroup": "True",
           "hovertemplate": "Year=2015<br>Budget=%{marker.color}<br>Ward_Number=%{y}<br>Ward=%{text}<extra></extra>",
           "legendgroup": "",
           "marker": {
            "color": [
             2830,
             246,
             1112,
             1321,
             2052,
             5521,
             11350,
             1526,
             3913,
             1084,
             3375,
             12038,
             1845,
             5303,
             1235,
             470,
             2872,
             2388,
             0.1,
             15016,
             4795,
             15415,
             16572,
             1389,
             2299,
             4312,
             32911,
             63828.55,
             2770,
             2818,
             651,
             2872,
             1072,
             935,
             1350,
             2325,
             1105,
             2540,
             5698,
             1625,
             3646,
             2244,
             4169,
             716
            ],
            "coloraxis": "coloraxis",
            "pattern": {
             "shape": ""
            }
           },
           "name": "",
           "offsetgroup": "",
           "orientation": "h",
           "showlegend": false,
           "text": [
            "Etobicoke North",
            "Etobicoke North",
            "Etobicoke Centre",
            "Etobicoke Centre",
            "Etobicoke Lakeshore",
            "Etobicoke Lakeshore",
            "York West",
            "York West",
            "York Centre",
            "York Centre",
            "York South-Weston",
            "York South-Weston",
            "Parkdale-High Park",
            "Parkdale-High Park",
            "Eglinton-Lawrence",
            "Eglinton-Lawrence",
            "Davenport",
            "Davenport",
            "Trinity-Spadina",
            "Trinity-Spadina",
            "St. Paul's",
            "St. Paul's",
            "Willowdale",
            "Willowdale",
            "Don Valley West",
            "Don Valley West",
            "To. Centre-Rosedale",
            "To. Centre-Rosedale",
            "To--Danforth",
            "Broadview-Greenwood",
            "Beaches-East York",
            "Beaches-East York",
            "Don Valley East",
            "Don Valley East",
            "Scarborough Southwest",
            "Scarborough Southwest",
            "Scarhborough Centre",
            "Scarborough Centre",
            "Scarborough-Agincourt",
            "Scrborough-Agincourt",
            "Scarborough-Rouge River",
            "Scarborough-Rouge River",
            "Scarborough-East",
            "Scarborough-East"
           ],
           "textposition": "auto",
           "type": "bar",
           "x": [
            2830,
            246,
            1112,
            1321,
            2052,
            5521,
            11350,
            1526,
            3913,
            1084,
            3375,
            12038,
            1845,
            5303,
            1235,
            470,
            2872,
            2388,
            0.1,
            15016,
            4795,
            15415,
            16572,
            1389,
            2299,
            4312,
            32911,
            63828.55,
            2770,
            2818,
            651,
            2872,
            1072,
            935,
            1350,
            2325,
            1105,
            2540,
            5698,
            1625,
            3646,
            2244,
            4169,
            716
           ],
           "xaxis": "x",
           "y": [
            1,
            2,
            3,
            4,
            5,
            6,
            7,
            8,
            9,
            10,
            11,
            12,
            13,
            14,
            15,
            16,
            17,
            18,
            19,
            20,
            21,
            22,
            23,
            24,
            25,
            26,
            27,
            28,
            29,
            30,
            31,
            32,
            33,
            34,
            35,
            36,
            37,
            38,
            39,
            40,
            41,
            42,
            43,
            44
           ],
           "yaxis": "y"
          }
         ],
         "name": "2015"
        },
        {
         "data": [
          {
           "alignmentgroup": "True",
           "hovertemplate": "Year=2016<br>Budget=%{marker.color}<br>Ward_Number=%{y}<br>Ward=%{text}<extra></extra>",
           "legendgroup": "",
           "marker": {
            "color": [
             3998,
             3922,
             3847,
             0.1,
             1104,
             5909,
             250,
             3512,
             13778,
             1917,
             1533,
             6936,
             1398,
             6608,
             3380,
             0.1,
             1715,
             1233,
             10675,
             16055,
             14995,
             2915,
             11990,
             1671,
             1187,
             1120,
             31643,
             97075.67,
             1615,
             4746,
             1292,
             2033,
             1689,
             1217,
             2273,
             5120,
             1100,
             5192,
             8808,
             2597,
             720,
             2650,
             3083,
             739
            ],
            "coloraxis": "coloraxis",
            "pattern": {
             "shape": ""
            }
           },
           "name": "",
           "offsetgroup": "",
           "orientation": "h",
           "showlegend": false,
           "text": [
            "Etobicoke North",
            "Etobicoke North",
            "Etobicoke Centre",
            "Etobicoke Centre",
            "Etobicoke Lakeshore",
            "Etobicoke Lakeshore",
            "York West",
            "York West",
            "York Centre",
            "York Centre",
            "York South-Weston",
            "York South-Weston",
            "Parkdale-High Park",
            "Parkdale-High Park",
            "Eglinton-Lawrence",
            "Eglinton-Lawrence",
            "Davenport",
            "Davenport",
            "Trinity-Spadina",
            "Trinity-Spadina",
            "St. Paul's",
            "St. Paul's",
            "Willowdale",
            "Willowdale",
            "Don Valley West",
            "Don Valley West",
            "To. Centre-Rosedale",
            "To. Centre-Rosedale",
            "To--Danforth",
            "Broadview-Greenwood",
            "Beaches-East York",
            "Beaches-East York",
            "Don Valley East",
            "Don Valley East",
            "Scarborough Southwest",
            "Scarborough Southwest",
            "Scarhborough Centre",
            "Scarborough Centre",
            "Scarborough-Agincourt",
            "Scrborough-Agincourt",
            "Scarborough-Rouge River",
            "Scarborough-Rouge River",
            "Scarborough-East",
            "Scarborough-East"
           ],
           "textposition": "auto",
           "type": "bar",
           "x": [
            3998,
            3922,
            3847,
            0.1,
            1104,
            5909,
            250,
            3512,
            13778,
            1917,
            1533,
            6936,
            1398,
            6608,
            3380,
            0.1,
            1715,
            1233,
            10675,
            16055,
            14995,
            2915,
            11990,
            1671,
            1187,
            1120,
            31643,
            97075.67,
            1615,
            4746,
            1292,
            2033,
            1689,
            1217,
            2273,
            5120,
            1100,
            5192,
            8808,
            2597,
            720,
            2650,
            3083,
            739
           ],
           "xaxis": "x",
           "y": [
            1,
            2,
            3,
            4,
            5,
            6,
            7,
            8,
            9,
            10,
            11,
            12,
            13,
            14,
            15,
            16,
            17,
            18,
            19,
            20,
            21,
            22,
            23,
            24,
            25,
            26,
            27,
            28,
            29,
            30,
            31,
            32,
            33,
            34,
            35,
            36,
            37,
            38,
            39,
            40,
            41,
            42,
            43,
            44
           ],
           "yaxis": "y"
          }
         ],
         "name": "2016"
        },
        {
         "data": [
          {
           "alignmentgroup": "True",
           "hovertemplate": "Year=2017<br>Budget=%{marker.color}<br>Ward_Number=%{y}<br>Ward=%{text}<extra></extra>",
           "legendgroup": "",
           "marker": {
            "color": [
             5806,
             3492,
             4417,
             1320,
             3658.37,
             2524,
             9940,
             1367,
             3460,
             3896,
             9950,
             1478,
             494,
             488,
             2593,
             593,
             3522,
             1057,
             1685,
             24535,
             13556,
             4333,
             9582,
             11496,
             600,
             3228,
             27498,
             182890,
             1138,
             79998,
             3483,
             535.14,
             801,
             1295,
             1810,
             6311,
             1104,
             1549,
             15288,
             1500,
             3250,
             2975,
             2633,
             0.1
            ],
            "coloraxis": "coloraxis",
            "pattern": {
             "shape": ""
            }
           },
           "name": "",
           "offsetgroup": "",
           "orientation": "h",
           "showlegend": false,
           "text": [
            "Etobicoke North",
            "Etobicoke North",
            "Etobicoke Centre",
            "Etobicoke Centre",
            "Etobicoke Lakeshore",
            "Etobicoke Lakeshore",
            "York West",
            "York West",
            "York Centre",
            "York Centre",
            "York South-Weston",
            "York South-Weston",
            "Parkdale-High Park",
            "Parkdale-High Park",
            "Eglinton-Lawrence",
            "Eglinton-Lawrence",
            "Davenport",
            "Davenport",
            "Trinity-Spadina",
            "Trinity-Spadina",
            "St. Paul's",
            "St. Paul's",
            "Willowdale",
            "Willowdale",
            "Don Valley West",
            "Don Valley West",
            "To. Centre-Rosedale",
            "To. Centre-Rosedale",
            "To--Danforth",
            "Broadview-Greenwood",
            "Beaches-East York",
            "Beaches-East York",
            "Don Valley East",
            "Don Valley East",
            "Scarborough Southwest",
            "Scarborough Southwest",
            "Scarhborough Centre",
            "Scarborough Centre",
            "Scarborough-Agincourt",
            "Scrborough-Agincourt",
            "Scarborough-Rouge River",
            "Scarborough-Rouge River",
            "Scarborough-East",
            "Scarborough-East"
           ],
           "textposition": "auto",
           "type": "bar",
           "x": [
            5806,
            3492,
            4417,
            1320,
            3658.37,
            2524,
            9940,
            1367,
            3460,
            3896,
            9950,
            1478,
            494,
            488,
            2593,
            593,
            3522,
            1057,
            1685,
            24535,
            13556,
            4333,
            9582,
            11496,
            600,
            3228,
            27498,
            182890,
            1138,
            79998,
            3483,
            535.14,
            801,
            1295,
            1810,
            6311,
            1104,
            1549,
            15288,
            1500,
            3250,
            2975,
            2633,
            0.1
           ],
           "xaxis": "x",
           "y": [
            1,
            2,
            3,
            4,
            5,
            6,
            7,
            8,
            9,
            10,
            11,
            12,
            13,
            14,
            15,
            16,
            17,
            18,
            19,
            20,
            21,
            22,
            23,
            24,
            25,
            26,
            27,
            28,
            29,
            30,
            31,
            32,
            33,
            34,
            35,
            36,
            37,
            38,
            39,
            40,
            41,
            42,
            43,
            44
           ],
           "yaxis": "y"
          }
         ],
         "name": "2017"
        },
        {
         "data": [
          {
           "alignmentgroup": "True",
           "hovertemplate": "Year=2018<br>Budget=%{marker.color}<br>Ward_Number=%{y}<br>Ward=%{text}<extra></extra>",
           "legendgroup": "",
           "marker": {
            "color": [
             11042,
             5613,
             5538,
             0.1,
             0.1,
             2052,
             6732,
             6408,
             3470,
             4944,
             24371,
             545,
             1475,
             413,
             0.1,
             2875,
             1238,
             1098,
             8801,
             31631.06,
             6099,
             4470,
             15758,
             13279,
             720,
             9465,
             57211,
             195906.75,
             2023,
             163519,
             5837,
             3165,
             1011,
             2670,
             1089,
             3927,
             4968,
             4747,
             31144,
             1750,
             4215,
             5682,
             6790,
             1717
            ],
            "coloraxis": "coloraxis",
            "pattern": {
             "shape": ""
            }
           },
           "name": "",
           "offsetgroup": "",
           "orientation": "h",
           "showlegend": false,
           "text": [
            "Etobicoke North",
            "Etobicoke North",
            "Etobicoke Centre",
            "Etobicoke Centre",
            "Etobicoke Lakeshore",
            "Etobicoke Lakeshore",
            "York West",
            "York West",
            "York Centre",
            "York Centre",
            "York South-Weston",
            "York South-Weston",
            "Parkdale-High Park",
            "Parkdale-High Park",
            "Eglinton-Lawrence",
            "Eglinton-Lawrence",
            "Davenport",
            "Davenport",
            "Trinity-Spadina",
            "Trinity-Spadina",
            "St. Paul's",
            "St. Paul's",
            "Willowdale",
            "Willowdale",
            "Don Valley West",
            "Don Valley West",
            "To. Centre-Rosedale",
            "To. Centre-Rosedale",
            "To--Danforth",
            "Broadview-Greenwood",
            "Beaches-East York",
            "Beaches-East York",
            "Don Valley East",
            "Don Valley East",
            "Scarborough Southwest",
            "Scarborough Southwest",
            "Scarhborough Centre",
            "Scarborough Centre",
            "Scarborough-Agincourt",
            "Scrborough-Agincourt",
            "Scarborough-Rouge River",
            "Scarborough-Rouge River",
            "Scarborough-East",
            "Scarborough-East"
           ],
           "textposition": "auto",
           "type": "bar",
           "x": [
            11042,
            5613,
            5538,
            0.1,
            0.1,
            2052,
            6732,
            6408,
            3470,
            4944,
            24371,
            545,
            1475,
            413,
            0.1,
            2875,
            1238,
            1098,
            8801,
            31631.06,
            6099,
            4470,
            15758,
            13279,
            720,
            9465,
            57211,
            195906.75,
            2023,
            163519,
            5837,
            3165,
            1011,
            2670,
            1089,
            3927,
            4968,
            4747,
            31144,
            1750,
            4215,
            5682,
            6790,
            1717
           ],
           "xaxis": "x",
           "y": [
            1,
            2,
            3,
            4,
            5,
            6,
            7,
            8,
            9,
            10,
            11,
            12,
            13,
            14,
            15,
            16,
            17,
            18,
            19,
            20,
            21,
            22,
            23,
            24,
            25,
            26,
            27,
            28,
            29,
            30,
            31,
            32,
            33,
            34,
            35,
            36,
            37,
            38,
            39,
            40,
            41,
            42,
            43,
            44
           ],
           "yaxis": "y"
          }
         ],
         "name": "2018"
        },
        {
         "data": [
          {
           "alignmentgroup": "True",
           "hovertemplate": "Year=2019<br>Budget=%{marker.color}<br>Ward_Number=%{y}<br>Ward=%{text}<extra></extra>",
           "legendgroup": "",
           "marker": {
            "color": [
             340,
             15717,
             26748,
             2591,
             5471,
             2410,
             10172,
             3265,
             4846,
             49953.29,
             4540,
             5646,
             101471,
             20803,
             2608,
             4444,
             3705,
             22553,
             1795,
             45629,
             4725,
             0.1,
             2072,
             6055,
             8574
            ],
            "coloraxis": "coloraxis",
            "pattern": {
             "shape": ""
            }
           },
           "name": "",
           "offsetgroup": "",
           "orientation": "h",
           "showlegend": false,
           "text": [
            "Etobicoke North",
            "Etobicoke Centre",
            "Etobicoke-Lakeshore",
            "Parkdale-High Park",
            "York South-Weston ",
            "York Centre ",
            "Humber River-Black Creek",
            "Eglinton-Lawrence",
            "Davenport",
            "Spadina-Fort York",
            "University-Rosedale",
            "Toronto-St. Pauls",
            "Toronto Centre",
            "Toronto-Danforth",
            "Don Valley West",
            "Don Valley East",
            "Don Valley North",
            "Willowdale",
            "Beaches-East York",
            "Scarborough Southwest",
            "Scarborough Centre",
            "Scarborough-Agincourt",
            "Scarborough-North",
            "Scarborough-Guildwood",
            "Scarborough-Rouge Park"
           ],
           "textposition": "auto",
           "type": "bar",
           "x": [
            340,
            15717,
            26748,
            2591,
            5471,
            2410,
            10172,
            3265,
            4846,
            49953.29,
            4540,
            5646,
            101471,
            20803,
            2608,
            4444,
            3705,
            22553,
            1795,
            45629,
            4725,
            0.1,
            2072,
            6055,
            8574
           ],
           "xaxis": "x",
           "y": [
            1,
            2,
            3,
            4,
            5,
            6,
            7,
            8,
            9,
            10,
            11,
            12,
            13,
            14,
            15,
            16,
            17,
            18,
            19,
            20,
            21,
            22,
            23,
            24,
            25
           ],
           "yaxis": "y"
          }
         ],
         "name": "2019"
        },
        {
         "data": [
          {
           "alignmentgroup": "True",
           "hovertemplate": "Year=2020<br>Budget=%{marker.color}<br>Ward_Number=%{y}<br>Ward=%{text}<extra></extra>",
           "legendgroup": "",
           "marker": {
            "color": [
             15460.87,
             6111,
             19570.6,
             2488,
             5392.64,
             3520,
             9156,
             2553,
             1839,
             27405.5,
             11433.5,
             7394,
             74779,
             185352,
             2869,
             500,
             14455,
             5671.3,
             4878.45,
             47500,
             5222,
             480,
             7890,
             2692,
             2355
            ],
            "coloraxis": "coloraxis",
            "pattern": {
             "shape": ""
            }
           },
           "name": "",
           "offsetgroup": "",
           "orientation": "h",
           "showlegend": false,
           "text": [
            "Etobicoke North",
            "Etobicoke Centre",
            "Etobicoke-Lakeshore",
            "Parkdale-High Park",
            "York South-Weston ",
            "York Centre ",
            "Humber River-Black Creek",
            "Eglinton-Lawrence",
            "Davenport",
            "Spadina-Fort York",
            "University-Rosedale",
            "Toronto-St. Pauls",
            "Toronto Centre",
            "Toronto-Danforth",
            "Don Valley West",
            "Don Valley East",
            "Don Valley North",
            "Willowdale",
            "Beaches-East York",
            "Scarborough Southwest",
            "Scarborough Centre",
            "Scarborough-Agincourt",
            "Scarborough-North",
            "Scarborough-Guildwood",
            "Scarborough-Rouge Park"
           ],
           "textposition": "auto",
           "type": "bar",
           "x": [
            15460.87,
            6111,
            19570.6,
            2488,
            5392.64,
            3520,
            9156,
            2553,
            1839,
            27405.5,
            11433.5,
            7394,
            74779,
            185352,
            2869,
            500,
            14455,
            5671.3,
            4878.45,
            47500,
            5222,
            480,
            7890,
            2692,
            2355
           ],
           "xaxis": "x",
           "y": [
            1,
            2,
            3,
            4,
            5,
            6,
            7,
            8,
            9,
            10,
            11,
            12,
            13,
            14,
            15,
            16,
            17,
            18,
            19,
            20,
            21,
            22,
            23,
            24,
            25
           ],
           "yaxis": "y"
          }
         ],
         "name": "2020"
        },
        {
         "data": [
          {
           "alignmentgroup": "True",
           "hovertemplate": "Year=2021<br>Budget=%{marker.color}<br>Ward_Number=%{y}<br>Ward=%{text}<extra></extra>",
           "legendgroup": "",
           "marker": {
            "color": [
             0.1,
             7981,
             14503.9,
             695.8,
             1329,
             632,
             10698,
             3831,
             15058,
             50407.82,
             17250,
             5465,
             50166.6,
             0.1,
             3074,
             310.01,
             39803.8,
             1645.2,
             2037.55,
             7011.5,
             10736.75,
             470,
             0.1,
             1364,
             9576.6
            ],
            "coloraxis": "coloraxis",
            "pattern": {
             "shape": ""
            }
           },
           "name": "",
           "offsetgroup": "",
           "orientation": "h",
           "showlegend": false,
           "text": [
            "Etobicoke North",
            "Etobicoke Centre",
            "Etobicoke-Lakeshore",
            "Parkdale-High Park",
            "York South-Weston ",
            "York Centre ",
            "Humber River-Black Creek",
            "Eglinton-Lawrence",
            "Davenport",
            "Spadina-Fort York",
            "University-Rosedale",
            "Toronto-St. Pauls",
            "Toronto Centre",
            "Toronto-Danforth",
            "Don Valley West",
            "Don Valley East",
            "Don Valley North",
            "Willowdale",
            "Beaches-East York",
            "Scarborough Southwest",
            "Scarborough Centre",
            "Scarborough-Agincourt",
            "Scarborough-North",
            "Scarborough-Guildwood",
            "Scarborough-Rouge Park"
           ],
           "textposition": "auto",
           "type": "bar",
           "x": [
            0.1,
            7981,
            14503.9,
            695.8,
            1329,
            632,
            10698,
            3831,
            15058,
            50407.82,
            17250,
            5465,
            50166.6,
            0.1,
            3074,
            310.01,
            39803.8,
            1645.2,
            2037.55,
            7011.5,
            10736.75,
            470,
            0.1,
            1364,
            9576.6
           ],
           "xaxis": "x",
           "y": [
            1,
            2,
            3,
            4,
            5,
            6,
            7,
            8,
            9,
            10,
            11,
            12,
            13,
            14,
            15,
            16,
            17,
            18,
            19,
            20,
            21,
            22,
            23,
            24,
            25
           ],
           "yaxis": "y"
          }
         ],
         "name": "2021"
        },
        {
         "data": [
          {
           "alignmentgroup": "True",
           "hovertemplate": "Year=2022<br>Budget=%{marker.color}<br>Ward_Number=%{y}<br>Ward=%{text}<extra></extra>",
           "legendgroup": "",
           "marker": {
            "color": [
             198,
             12213,
             13279,
             1927,
             2200,
             2778,
             5511.2,
             3076,
             8957,
             35199,
             10485,
             4282,
             48033.2,
             94606,
             1535,
             5190,
             18480,
             12145,
             1137,
             10194,
             11654,
             3941,
             1672,
             858,
             2442.6000000000004
            ],
            "coloraxis": "coloraxis",
            "pattern": {
             "shape": ""
            }
           },
           "name": "",
           "offsetgroup": "",
           "orientation": "h",
           "showlegend": false,
           "text": [
            "Etobicoke North",
            "Etobicoke Centre",
            "Etobicoke-Lakeshore",
            "Parkdale-High Park",
            "York South-Weston ",
            "York Centre ",
            "Humber River-Black Creek",
            "Eglinton-Lawrence",
            "Davenport",
            "Spadina-Fort York",
            "University-Rosedale",
            "Toronto-St. Pauls",
            "Toronto Centre",
            "Toronto-Danforth",
            "Don Valley West",
            "Don Valley East",
            "Don Valley North",
            "Willowdale",
            "Beaches-East York",
            "Scarborough Southwest",
            "Scarborough Centre",
            "Scarborough-Agincourt",
            "Scarborough-North",
            "Scarborough-Guildwood",
            "Scarborough-Rouge Park"
           ],
           "textposition": "auto",
           "type": "bar",
           "x": [
            198,
            12213,
            13279,
            1927,
            2200,
            2778,
            5511.2,
            3076,
            8957,
            35199,
            10485,
            4282,
            48033.2,
            94606,
            1535,
            5190,
            18480,
            12145,
            1137,
            10194,
            11654,
            3941,
            1672,
            858,
            2442.6000000000004
           ],
           "xaxis": "x",
           "y": [
            1,
            2,
            3,
            4,
            5,
            6,
            7,
            8,
            9,
            10,
            11,
            12,
            13,
            14,
            15,
            16,
            17,
            18,
            19,
            20,
            21,
            22,
            23,
            24,
            25
           ],
           "yaxis": "y"
          }
         ],
         "name": "2022"
        },
        {
         "data": [
          {
           "alignmentgroup": "True",
           "hovertemplate": "Year=2023<br>Budget=%{marker.color}<br>Ward_Number=%{y}<br>Ward=%{text}<extra></extra>",
           "legendgroup": "",
           "marker": {
            "color": [
             1967.01,
             12287,
             37634.66,
             2786.9300000000003,
             4332.5,
             4585,
             7224.2,
             5598,
             15458,
             103894.86,
             35971,
             9228,
             67354,
             99200.25,
             0.1,
             1504,
             5113,
             10173.01,
             3529.88,
             5845,
             32188.5,
             6412,
             1594,
             1511.9,
             40552.6
            ],
            "coloraxis": "coloraxis",
            "pattern": {
             "shape": ""
            }
           },
           "name": "",
           "offsetgroup": "",
           "orientation": "h",
           "showlegend": false,
           "text": [
            "Etobicoke North",
            "Etobicoke Centre",
            "Etobicoke-Lakeshore",
            "Parkdale-High Park",
            "York South-Weston ",
            "York Centre ",
            "Humber River-Black Creek",
            "Eglinton-Lawrence",
            "Davenport",
            "Spadina-Fort York",
            "University-Rosedale",
            "Toronto-St. Pauls",
            "Toronto Centre",
            "Toronto-Danforth",
            "Don Valley West",
            "Don Valley East",
            "Don Valley North",
            "Willowdale",
            "Beaches-East York",
            "Scarborough Southwest",
            "Scarborough Centre",
            "Scarborough-Agincourt",
            "Scarborough-North",
            "Scarborough-Guildwood",
            "Scarborough-Rouge Park"
           ],
           "textposition": "auto",
           "type": "bar",
           "x": [
            1967.01,
            12287,
            37634.66,
            2786.9300000000003,
            4332.5,
            4585,
            7224.2,
            5598,
            15458,
            103894.86,
            35971,
            9228,
            67354,
            99200.25,
            0.1,
            1504,
            5113,
            10173.01,
            3529.88,
            5845,
            32188.5,
            6412,
            1594,
            1511.9,
            40552.6
           ],
           "xaxis": "x",
           "y": [
            1,
            2,
            3,
            4,
            5,
            6,
            7,
            8,
            9,
            10,
            11,
            12,
            13,
            14,
            15,
            16,
            17,
            18,
            19,
            20,
            21,
            22,
            23,
            24,
            25
           ],
           "yaxis": "y"
          }
         ],
         "name": "2023"
        },
        {
         "data": [
          {
           "alignmentgroup": "True",
           "hovertemplate": "Year=2024<br>Budget=%{marker.color}<br>Ward_Number=%{y}<br>Ward=%{text}<extra></extra>",
           "legendgroup": "",
           "marker": {
            "color": [
             2287.24,
             24076,
             33335.53,
             4280.5,
             10572.5,
             1292,
             2963,
             4943,
             7227,
             83751.98999999999,
             28535.39,
             4240,
             42869,
             130705.25,
             3887,
             1073,
             4683,
             9506,
             7395,
             1328,
             9124.46,
             6848,
             2078,
             1138,
             42382.6
            ],
            "coloraxis": "coloraxis",
            "pattern": {
             "shape": ""
            }
           },
           "name": "",
           "offsetgroup": "",
           "orientation": "h",
           "showlegend": false,
           "text": [
            "Etobicoke North",
            "Etobicoke Centre",
            "Etobicoke-Lakeshore",
            "Parkdale-High Park",
            "York South-Weston ",
            "York Centre ",
            "Humber River-Black Creek",
            "Eglinton-Lawrence",
            "Davenport",
            "Spadina-Fort York",
            "University-Rosedale",
            "Toronto-St. Pauls",
            "Toronto Centre",
            "Toronto-Danforth",
            "Don Valley West",
            "Don Valley East",
            "Don Valley North",
            "Willowdale",
            "Beaches-East York",
            "Scarborough Southwest",
            "Scarborough Centre",
            "Scarborough-Agincourt",
            "Scarborough-North",
            "Scarborough-Guildwood",
            "Scarborough-Rouge Park"
           ],
           "textposition": "auto",
           "type": "bar",
           "x": [
            2287.24,
            24076,
            33335.53,
            4280.5,
            10572.5,
            1292,
            2963,
            4943,
            7227,
            83751.98999999999,
            28535.39,
            4240,
            42869,
            130705.25,
            3887,
            1073,
            4683,
            9506,
            7395,
            1328,
            9124.46,
            6848,
            2078,
            1138,
            42382.6
           ],
           "xaxis": "x",
           "y": [
            1,
            2,
            3,
            4,
            5,
            6,
            7,
            8,
            9,
            10,
            11,
            12,
            13,
            14,
            15,
            16,
            17,
            18,
            19,
            20,
            21,
            22,
            23,
            24,
            25
           ],
           "yaxis": "y"
          }
         ],
         "name": "2024"
        }
       ],
       "layout": {
        "annotations": [
         {
          "align": "right",
          "font": {
           "color": "#544698",
           "size": 10
          },
          "showarrow": false,
          "text": "Julia Ren, https://github.com/renrihui8415/",
          "x": 1,
          "xanchor": "right",
          "xref": "paper",
          "y": 1.06,
          "yanchor": "top",
          "yref": "paper"
         },
         {
          "align": "left",
          "font": {
           "color": "#544698",
           "size": 10
          },
          "showarrow": false,
          "text": "The visualization shows how annual budgets for Torontos wards, which decreased from 44 to 25 after 2019, have evolved from 2010 to 2024, with each bar representing a ward.",
          "x": 0,
          "xanchor": "left",
          "xref": "paper",
          "y": 1.02,
          "yanchor": "top",
          "yref": "paper"
         },
         {
          "align": "left",
          "font": {
           "color": "#544698",
           "size": 10
          },
          "showarrow": false,
          "text": "Data Source: [Toronto Open Data](https://open.toronto.ca/dataset/budget-capital-budget-plan-by-ward-10-yr-approved/)",
          "x": 0,
          "xanchor": "left",
          "xref": "paper",
          "y": 1.04,
          "yanchor": "top",
          "yref": "paper"
         },
         {
          "align": "right",
          "font": {
           "color": "#544698",
           "size": 10
          },
          "showarrow": false,
          "text": "Date: August 2024",
          "x": 1,
          "xref": "paper",
          "y": 1.08,
          "yref": "paper"
         }
        ],
        "autosize": true,
        "barmode": "relative",
        "coloraxis": {
         "colorbar": {
          "title": {
           "text": "Budget"
          }
         },
         "colorscale": [
          [
           0,
           "rgb(243, 231, 155)"
          ],
          [
           0.16666666666666666,
           "rgb(250, 196, 132)"
          ],
          [
           0.3333333333333333,
           "rgb(248, 160, 126)"
          ],
          [
           0.5,
           "rgb(235, 127, 134)"
          ],
          [
           0.6666666666666666,
           "rgb(206, 102, 147)"
          ],
          [
           0.8333333333333334,
           "rgb(160, 89, 160)"
          ],
          [
           1,
           "rgb(92, 83, 165)"
          ]
         ]
        },
        "height": 900,
        "legend": {
         "tracegroupgap": 0
        },
        "sliders": [
         {
          "active": 0,
          "currentvalue": {
           "prefix": "Year="
          },
          "len": 0.9,
          "pad": {
           "b": 10,
           "t": 60
          },
          "steps": [
           {
            "args": [
             [
              "2010"
             ],
             {
              "frame": {
               "duration": 0,
               "redraw": true
              },
              "fromcurrent": true,
              "mode": "immediate",
              "transition": {
               "duration": 0,
               "easing": "linear"
              }
             }
            ],
            "label": "2010",
            "method": "animate"
           },
           {
            "args": [
             [
              "2011"
             ],
             {
              "frame": {
               "duration": 0,
               "redraw": true
              },
              "fromcurrent": true,
              "mode": "immediate",
              "transition": {
               "duration": 0,
               "easing": "linear"
              }
             }
            ],
            "label": "2011",
            "method": "animate"
           },
           {
            "args": [
             [
              "2012"
             ],
             {
              "frame": {
               "duration": 0,
               "redraw": true
              },
              "fromcurrent": true,
              "mode": "immediate",
              "transition": {
               "duration": 0,
               "easing": "linear"
              }
             }
            ],
            "label": "2012",
            "method": "animate"
           },
           {
            "args": [
             [
              "2013"
             ],
             {
              "frame": {
               "duration": 0,
               "redraw": true
              },
              "fromcurrent": true,
              "mode": "immediate",
              "transition": {
               "duration": 0,
               "easing": "linear"
              }
             }
            ],
            "label": "2013",
            "method": "animate"
           },
           {
            "args": [
             [
              "2014"
             ],
             {
              "frame": {
               "duration": 0,
               "redraw": true
              },
              "fromcurrent": true,
              "mode": "immediate",
              "transition": {
               "duration": 0,
               "easing": "linear"
              }
             }
            ],
            "label": "2014",
            "method": "animate"
           },
           {
            "args": [
             [
              "2015"
             ],
             {
              "frame": {
               "duration": 0,
               "redraw": true
              },
              "fromcurrent": true,
              "mode": "immediate",
              "transition": {
               "duration": 0,
               "easing": "linear"
              }
             }
            ],
            "label": "2015",
            "method": "animate"
           },
           {
            "args": [
             [
              "2016"
             ],
             {
              "frame": {
               "duration": 0,
               "redraw": true
              },
              "fromcurrent": true,
              "mode": "immediate",
              "transition": {
               "duration": 0,
               "easing": "linear"
              }
             }
            ],
            "label": "2016",
            "method": "animate"
           },
           {
            "args": [
             [
              "2017"
             ],
             {
              "frame": {
               "duration": 0,
               "redraw": true
              },
              "fromcurrent": true,
              "mode": "immediate",
              "transition": {
               "duration": 0,
               "easing": "linear"
              }
             }
            ],
            "label": "2017",
            "method": "animate"
           },
           {
            "args": [
             [
              "2018"
             ],
             {
              "frame": {
               "duration": 0,
               "redraw": true
              },
              "fromcurrent": true,
              "mode": "immediate",
              "transition": {
               "duration": 0,
               "easing": "linear"
              }
             }
            ],
            "label": "2018",
            "method": "animate"
           },
           {
            "args": [
             [
              "2019"
             ],
             {
              "frame": {
               "duration": 0,
               "redraw": true
              },
              "fromcurrent": true,
              "mode": "immediate",
              "transition": {
               "duration": 0,
               "easing": "linear"
              }
             }
            ],
            "label": "2019",
            "method": "animate"
           },
           {
            "args": [
             [
              "2020"
             ],
             {
              "frame": {
               "duration": 0,
               "redraw": true
              },
              "fromcurrent": true,
              "mode": "immediate",
              "transition": {
               "duration": 0,
               "easing": "linear"
              }
             }
            ],
            "label": "2020",
            "method": "animate"
           },
           {
            "args": [
             [
              "2021"
             ],
             {
              "frame": {
               "duration": 0,
               "redraw": true
              },
              "fromcurrent": true,
              "mode": "immediate",
              "transition": {
               "duration": 0,
               "easing": "linear"
              }
             }
            ],
            "label": "2021",
            "method": "animate"
           },
           {
            "args": [
             [
              "2022"
             ],
             {
              "frame": {
               "duration": 0,
               "redraw": true
              },
              "fromcurrent": true,
              "mode": "immediate",
              "transition": {
               "duration": 0,
               "easing": "linear"
              }
             }
            ],
            "label": "2022",
            "method": "animate"
           },
           {
            "args": [
             [
              "2023"
             ],
             {
              "frame": {
               "duration": 0,
               "redraw": true
              },
              "fromcurrent": true,
              "mode": "immediate",
              "transition": {
               "duration": 0,
               "easing": "linear"
              }
             }
            ],
            "label": "2023",
            "method": "animate"
           },
           {
            "args": [
             [
              "2024"
             ],
             {
              "frame": {
               "duration": 0,
               "redraw": true
              },
              "fromcurrent": true,
              "mode": "immediate",
              "transition": {
               "duration": 0,
               "easing": "linear"
              }
             }
            ],
            "label": "2024",
            "method": "animate"
           }
          ],
          "x": 0.1,
          "xanchor": "left",
          "y": 0,
          "yanchor": "top"
         }
        ],
        "template": {
         "data": {
          "bar": [
           {
            "error_x": {
             "color": "#2a3f5f"
            },
            "error_y": {
             "color": "#2a3f5f"
            },
            "marker": {
             "line": {
              "color": "#E5ECF6",
              "width": 0.5
             },
             "pattern": {
              "fillmode": "overlay",
              "size": 10,
              "solidity": 0.2
             }
            },
            "type": "bar"
           }
          ],
          "barpolar": [
           {
            "marker": {
             "line": {
              "color": "#E5ECF6",
              "width": 0.5
             },
             "pattern": {
              "fillmode": "overlay",
              "size": 10,
              "solidity": 0.2
             }
            },
            "type": "barpolar"
           }
          ],
          "carpet": [
           {
            "aaxis": {
             "endlinecolor": "#2a3f5f",
             "gridcolor": "white",
             "linecolor": "white",
             "minorgridcolor": "white",
             "startlinecolor": "#2a3f5f"
            },
            "baxis": {
             "endlinecolor": "#2a3f5f",
             "gridcolor": "white",
             "linecolor": "white",
             "minorgridcolor": "white",
             "startlinecolor": "#2a3f5f"
            },
            "type": "carpet"
           }
          ],
          "choropleth": [
           {
            "colorbar": {
             "outlinewidth": 0,
             "ticks": ""
            },
            "type": "choropleth"
           }
          ],
          "contour": [
           {
            "colorbar": {
             "outlinewidth": 0,
             "ticks": ""
            },
            "colorscale": [
             [
              0,
              "#0d0887"
             ],
             [
              0.1111111111111111,
              "#46039f"
             ],
             [
              0.2222222222222222,
              "#7201a8"
             ],
             [
              0.3333333333333333,
              "#9c179e"
             ],
             [
              0.4444444444444444,
              "#bd3786"
             ],
             [
              0.5555555555555556,
              "#d8576b"
             ],
             [
              0.6666666666666666,
              "#ed7953"
             ],
             [
              0.7777777777777778,
              "#fb9f3a"
             ],
             [
              0.8888888888888888,
              "#fdca26"
             ],
             [
              1,
              "#f0f921"
             ]
            ],
            "type": "contour"
           }
          ],
          "contourcarpet": [
           {
            "colorbar": {
             "outlinewidth": 0,
             "ticks": ""
            },
            "type": "contourcarpet"
           }
          ],
          "heatmap": [
           {
            "colorbar": {
             "outlinewidth": 0,
             "ticks": ""
            },
            "colorscale": [
             [
              0,
              "#0d0887"
             ],
             [
              0.1111111111111111,
              "#46039f"
             ],
             [
              0.2222222222222222,
              "#7201a8"
             ],
             [
              0.3333333333333333,
              "#9c179e"
             ],
             [
              0.4444444444444444,
              "#bd3786"
             ],
             [
              0.5555555555555556,
              "#d8576b"
             ],
             [
              0.6666666666666666,
              "#ed7953"
             ],
             [
              0.7777777777777778,
              "#fb9f3a"
             ],
             [
              0.8888888888888888,
              "#fdca26"
             ],
             [
              1,
              "#f0f921"
             ]
            ],
            "type": "heatmap"
           }
          ],
          "heatmapgl": [
           {
            "colorbar": {
             "outlinewidth": 0,
             "ticks": ""
            },
            "colorscale": [
             [
              0,
              "#0d0887"
             ],
             [
              0.1111111111111111,
              "#46039f"
             ],
             [
              0.2222222222222222,
              "#7201a8"
             ],
             [
              0.3333333333333333,
              "#9c179e"
             ],
             [
              0.4444444444444444,
              "#bd3786"
             ],
             [
              0.5555555555555556,
              "#d8576b"
             ],
             [
              0.6666666666666666,
              "#ed7953"
             ],
             [
              0.7777777777777778,
              "#fb9f3a"
             ],
             [
              0.8888888888888888,
              "#fdca26"
             ],
             [
              1,
              "#f0f921"
             ]
            ],
            "type": "heatmapgl"
           }
          ],
          "histogram": [
           {
            "marker": {
             "pattern": {
              "fillmode": "overlay",
              "size": 10,
              "solidity": 0.2
             }
            },
            "type": "histogram"
           }
          ],
          "histogram2d": [
           {
            "colorbar": {
             "outlinewidth": 0,
             "ticks": ""
            },
            "colorscale": [
             [
              0,
              "#0d0887"
             ],
             [
              0.1111111111111111,
              "#46039f"
             ],
             [
              0.2222222222222222,
              "#7201a8"
             ],
             [
              0.3333333333333333,
              "#9c179e"
             ],
             [
              0.4444444444444444,
              "#bd3786"
             ],
             [
              0.5555555555555556,
              "#d8576b"
             ],
             [
              0.6666666666666666,
              "#ed7953"
             ],
             [
              0.7777777777777778,
              "#fb9f3a"
             ],
             [
              0.8888888888888888,
              "#fdca26"
             ],
             [
              1,
              "#f0f921"
             ]
            ],
            "type": "histogram2d"
           }
          ],
          "histogram2dcontour": [
           {
            "colorbar": {
             "outlinewidth": 0,
             "ticks": ""
            },
            "colorscale": [
             [
              0,
              "#0d0887"
             ],
             [
              0.1111111111111111,
              "#46039f"
             ],
             [
              0.2222222222222222,
              "#7201a8"
             ],
             [
              0.3333333333333333,
              "#9c179e"
             ],
             [
              0.4444444444444444,
              "#bd3786"
             ],
             [
              0.5555555555555556,
              "#d8576b"
             ],
             [
              0.6666666666666666,
              "#ed7953"
             ],
             [
              0.7777777777777778,
              "#fb9f3a"
             ],
             [
              0.8888888888888888,
              "#fdca26"
             ],
             [
              1,
              "#f0f921"
             ]
            ],
            "type": "histogram2dcontour"
           }
          ],
          "mesh3d": [
           {
            "colorbar": {
             "outlinewidth": 0,
             "ticks": ""
            },
            "type": "mesh3d"
           }
          ],
          "parcoords": [
           {
            "line": {
             "colorbar": {
              "outlinewidth": 0,
              "ticks": ""
             }
            },
            "type": "parcoords"
           }
          ],
          "pie": [
           {
            "automargin": true,
            "type": "pie"
           }
          ],
          "scatter": [
           {
            "fillpattern": {
             "fillmode": "overlay",
             "size": 10,
             "solidity": 0.2
            },
            "type": "scatter"
           }
          ],
          "scatter3d": [
           {
            "line": {
             "colorbar": {
              "outlinewidth": 0,
              "ticks": ""
             }
            },
            "marker": {
             "colorbar": {
              "outlinewidth": 0,
              "ticks": ""
             }
            },
            "type": "scatter3d"
           }
          ],
          "scattercarpet": [
           {
            "marker": {
             "colorbar": {
              "outlinewidth": 0,
              "ticks": ""
             }
            },
            "type": "scattercarpet"
           }
          ],
          "scattergeo": [
           {
            "marker": {
             "colorbar": {
              "outlinewidth": 0,
              "ticks": ""
             }
            },
            "type": "scattergeo"
           }
          ],
          "scattergl": [
           {
            "marker": {
             "colorbar": {
              "outlinewidth": 0,
              "ticks": ""
             }
            },
            "type": "scattergl"
           }
          ],
          "scattermapbox": [
           {
            "marker": {
             "colorbar": {
              "outlinewidth": 0,
              "ticks": ""
             }
            },
            "type": "scattermapbox"
           }
          ],
          "scatterpolar": [
           {
            "marker": {
             "colorbar": {
              "outlinewidth": 0,
              "ticks": ""
             }
            },
            "type": "scatterpolar"
           }
          ],
          "scatterpolargl": [
           {
            "marker": {
             "colorbar": {
              "outlinewidth": 0,
              "ticks": ""
             }
            },
            "type": "scatterpolargl"
           }
          ],
          "scatterternary": [
           {
            "marker": {
             "colorbar": {
              "outlinewidth": 0,
              "ticks": ""
             }
            },
            "type": "scatterternary"
           }
          ],
          "surface": [
           {
            "colorbar": {
             "outlinewidth": 0,
             "ticks": ""
            },
            "colorscale": [
             [
              0,
              "#0d0887"
             ],
             [
              0.1111111111111111,
              "#46039f"
             ],
             [
              0.2222222222222222,
              "#7201a8"
             ],
             [
              0.3333333333333333,
              "#9c179e"
             ],
             [
              0.4444444444444444,
              "#bd3786"
             ],
             [
              0.5555555555555556,
              "#d8576b"
             ],
             [
              0.6666666666666666,
              "#ed7953"
             ],
             [
              0.7777777777777778,
              "#fb9f3a"
             ],
             [
              0.8888888888888888,
              "#fdca26"
             ],
             [
              1,
              "#f0f921"
             ]
            ],
            "type": "surface"
           }
          ],
          "table": [
           {
            "cells": {
             "fill": {
              "color": "#EBF0F8"
             },
             "line": {
              "color": "white"
             }
            },
            "header": {
             "fill": {
              "color": "#C8D4E3"
             },
             "line": {
              "color": "white"
             }
            },
            "type": "table"
           }
          ]
         },
         "layout": {
          "annotationdefaults": {
           "arrowcolor": "#2a3f5f",
           "arrowhead": 0,
           "arrowwidth": 1
          },
          "autotypenumbers": "strict",
          "coloraxis": {
           "colorbar": {
            "outlinewidth": 0,
            "ticks": ""
           }
          },
          "colorscale": {
           "diverging": [
            [
             0,
             "#8e0152"
            ],
            [
             0.1,
             "#c51b7d"
            ],
            [
             0.2,
             "#de77ae"
            ],
            [
             0.3,
             "#f1b6da"
            ],
            [
             0.4,
             "#fde0ef"
            ],
            [
             0.5,
             "#f7f7f7"
            ],
            [
             0.6,
             "#e6f5d0"
            ],
            [
             0.7,
             "#b8e186"
            ],
            [
             0.8,
             "#7fbc41"
            ],
            [
             0.9,
             "#4d9221"
            ],
            [
             1,
             "#276419"
            ]
           ],
           "sequential": [
            [
             0,
             "#0d0887"
            ],
            [
             0.1111111111111111,
             "#46039f"
            ],
            [
             0.2222222222222222,
             "#7201a8"
            ],
            [
             0.3333333333333333,
             "#9c179e"
            ],
            [
             0.4444444444444444,
             "#bd3786"
            ],
            [
             0.5555555555555556,
             "#d8576b"
            ],
            [
             0.6666666666666666,
             "#ed7953"
            ],
            [
             0.7777777777777778,
             "#fb9f3a"
            ],
            [
             0.8888888888888888,
             "#fdca26"
            ],
            [
             1,
             "#f0f921"
            ]
           ],
           "sequentialminus": [
            [
             0,
             "#0d0887"
            ],
            [
             0.1111111111111111,
             "#46039f"
            ],
            [
             0.2222222222222222,
             "#7201a8"
            ],
            [
             0.3333333333333333,
             "#9c179e"
            ],
            [
             0.4444444444444444,
             "#bd3786"
            ],
            [
             0.5555555555555556,
             "#d8576b"
            ],
            [
             0.6666666666666666,
             "#ed7953"
            ],
            [
             0.7777777777777778,
             "#fb9f3a"
            ],
            [
             0.8888888888888888,
             "#fdca26"
            ],
            [
             1,
             "#f0f921"
            ]
           ]
          },
          "colorway": [
           "#636efa",
           "#EF553B",
           "#00cc96",
           "#ab63fa",
           "#FFA15A",
           "#19d3f3",
           "#FF6692",
           "#B6E880",
           "#FF97FF",
           "#FECB52"
          ],
          "font": {
           "color": "#2a3f5f"
          },
          "geo": {
           "bgcolor": "white",
           "lakecolor": "white",
           "landcolor": "#E5ECF6",
           "showlakes": true,
           "showland": true,
           "subunitcolor": "white"
          },
          "hoverlabel": {
           "align": "left"
          },
          "hovermode": "closest",
          "mapbox": {
           "style": "light"
          },
          "paper_bgcolor": "white",
          "plot_bgcolor": "#E5ECF6",
          "polar": {
           "angularaxis": {
            "gridcolor": "white",
            "linecolor": "white",
            "ticks": ""
           },
           "bgcolor": "#E5ECF6",
           "radialaxis": {
            "gridcolor": "white",
            "linecolor": "white",
            "ticks": ""
           }
          },
          "scene": {
           "xaxis": {
            "backgroundcolor": "#E5ECF6",
            "gridcolor": "white",
            "gridwidth": 2,
            "linecolor": "white",
            "showbackground": true,
            "ticks": "",
            "zerolinecolor": "white"
           },
           "yaxis": {
            "backgroundcolor": "#E5ECF6",
            "gridcolor": "white",
            "gridwidth": 2,
            "linecolor": "white",
            "showbackground": true,
            "ticks": "",
            "zerolinecolor": "white"
           },
           "zaxis": {
            "backgroundcolor": "#E5ECF6",
            "gridcolor": "white",
            "gridwidth": 2,
            "linecolor": "white",
            "showbackground": true,
            "ticks": "",
            "zerolinecolor": "white"
           }
          },
          "shapedefaults": {
           "line": {
            "color": "#2a3f5f"
           }
          },
          "ternary": {
           "aaxis": {
            "gridcolor": "white",
            "linecolor": "white",
            "ticks": ""
           },
           "baxis": {
            "gridcolor": "white",
            "linecolor": "white",
            "ticks": ""
           },
           "bgcolor": "#E5ECF6",
           "caxis": {
            "gridcolor": "white",
            "linecolor": "white",
            "ticks": ""
           }
          },
          "title": {
           "x": 0.05
          },
          "xaxis": {
           "automargin": true,
           "gridcolor": "white",
           "linecolor": "white",
           "ticks": "",
           "title": {
            "standoff": 15
           },
           "zerolinecolor": "white",
           "zerolinewidth": 2
          },
          "yaxis": {
           "automargin": true,
           "gridcolor": "white",
           "linecolor": "white",
           "ticks": "",
           "title": {
            "standoff": 15
           },
           "zerolinecolor": "white",
           "zerolinewidth": 2
          }
         }
        },
        "title": {
         "font": {
          "color": "#544698",
          "family": "sans-serif",
          "size": 18
         },
         "text": "Toronto Budgets By Ward (Year 2010 to Year 2024)"
        },
        "transition": {
         "duration": 1000
        },
        "updatemenus": [
         {
          "buttons": [
           {
            "args": [
             null,
             {
              "frame": {
               "duration": 2000,
               "redraw": true
              },
              "fromcurrent": true,
              "mode": "immediate",
              "transition": {
               "duration": 2000,
               "easing": "linear"
              }
             }
            ],
            "label": "&#9654;",
            "method": "animate"
           },
           {
            "args": [
             [
              null
             ],
             {
              "frame": {
               "duration": 0,
               "redraw": true
              },
              "fromcurrent": true,
              "mode": "immediate",
              "transition": {
               "duration": 0,
               "easing": "linear"
              }
             }
            ],
            "label": "&#9724;",
            "method": "animate"
           }
          ],
          "direction": "left",
          "pad": {
           "r": 10,
           "t": 70
          },
          "showactive": false,
          "type": "buttons",
          "x": 0.1,
          "xanchor": "right",
          "y": 0,
          "yanchor": "top"
         }
        ],
        "width": 900,
        "xaxis": {
         "anchor": "y",
         "domain": [
          0,
          1
         ],
         "range": [
          -1.9999999999999996,
          5.333442085100127
         ],
         "title": {
          "text": "Budget In $1000"
         },
         "type": "log"
        },
        "yaxis": {
         "anchor": "x",
         "domain": [
          0,
          1
         ],
         "tickmode": "linear",
         "title": {
          "text": "Ward_Number"
         }
        }
       }
      }
     },
     "metadata": {},
     "output_type": "display_data"
    }
   ],
   "source": [
    "def main():\n",
    "\n",
    "    # 1. Get the download links from data source\n",
    "    download_links = get_links(source_data_link, source_button_XPATH, link_XPATH)\n",
    "\n",
    "    # Print all download links\n",
    "    # print(\"Download links:\")\n",
    "    # for link in download_links:\n",
    "    #     print(link)\n",
    "    print(\"Step 1. Download links have been obtained.\")\n",
    "\n",
    "    # 2. Download files using the download links\n",
    "    download_files(download_links, download_folder)\n",
    "    print(f\"Step 2. Data files have been download in '{os.path.abspath(download_folder)}'. \")\n",
    "    \n",
    "    # 3. Data Process (ETL)\n",
    "    budget_data = data_etl(download_folder, ward_column_list, None, inserted_column, rename_column_1, rename_column_2 )\n",
    "    if budget_data.empty:\n",
    "        return \"Budget_data not found in the entire folder.\"\n",
    "    # print(budget_data.head(5))\n",
    "    \n",
    "    # Save the extracted data into .csv file\n",
    "    budget_data.to_csv(extracted_data_file)\n",
    "    print(\"Step 3. Budget data has been extracted and saved.\")\n",
    "\n",
    "    # 4. Data Calculation for Reporting(Visualization)\n",
    "    ward_mapping = get_ward_mapping(extracted_data_file,ward_column_list)\n",
    "    report_data = data_calculating(extracted_data_file, ward_mapping, ward_column_list, scale = False)\n",
    "    print('Step 4. Report data have been calculated and saved.')\n",
    "    # print(report_data.head(5))\n",
    "    report_data.to_csv(report_data_file)\n",
    "    \n",
    "    # 5. Data Visualization\n",
    "    print('Step 5. Dynamic Bar Plot has been generated.')\n",
    "    print('Upon first playback, there may be a 1-second delay.')\n",
    "    data_visualizing(report_data_file,rename_column_1, purple_color= purple_color, family= family)\n",
    "    \n",
    "if __name__ == \"__main__\":\n",
    "    main()"
   ]
  }
 ],
 "metadata": {
  "kernelspec": {
   "display_name": "dsi_participant",
   "language": "python",
   "name": "python3"
  },
  "language_info": {
   "codemirror_mode": {
    "name": "ipython",
    "version": 3
   },
   "file_extension": ".py",
   "mimetype": "text/x-python",
   "name": "python",
   "nbconvert_exporter": "python",
   "pygments_lexer": "ipython3",
   "version": "3.9.19"
  }
 },
 "nbformat": 4,
 "nbformat_minor": 2
}
